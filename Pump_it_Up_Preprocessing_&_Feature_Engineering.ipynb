{
  "nbformat": 4,
  "nbformat_minor": 0,
  "metadata": {
    "colab": {
      "name": "Pump it Up - Preprocessing & Feature Engineering.ipynb",
      "provenance": [],
      "mount_file_id": "1AjV4zLnBvZc2bEbBqpjUAch-P-kTSKF5",
      "authorship_tag": "ABX9TyOOgPgcda8uErBzyq7COCBM",
      "include_colab_link": true
    },
    "kernelspec": {
      "display_name": "Python 3",
      "name": "python3"
    },
    "language_info": {
      "name": "python"
    }
  },
  "cells": [
    {
      "cell_type": "markdown",
      "metadata": {
        "id": "view-in-github",
        "colab_type": "text"
      },
      "source": [
        "<a href=\"https://colab.research.google.com/github/KrishPraba/Pump-it-Up-Data-Mining-the-Water-Table/blob/main/Pump_it_Up_Preprocessing_%26_Feature_Engineering.ipynb\" target=\"_parent\"><img src=\"https://colab.research.google.com/assets/colab-badge.svg\" alt=\"Open In Colab\"/></a>"
      ]
    },
    {
      "cell_type": "code",
      "metadata": {
        "colab": {
          "base_uri": "https://localhost:8080/"
        },
        "id": "GHocunRYUk_z",
        "outputId": "9ebf3d78-9afd-4f9e-d48a-ad1722d085ea"
      },
      "source": [
        "from google.colab import drive\n",
        "drive.mount('/content/drive')"
      ],
      "execution_count": 52,
      "outputs": [
        {
          "output_type": "stream",
          "name": "stdout",
          "text": [
            "Drive already mounted at /content/drive; to attempt to forcibly remount, call drive.mount(\"/content/drive\", force_remount=True).\n"
          ]
        }
      ]
    },
    {
      "cell_type": "markdown",
      "metadata": {
        "id": "xnTB6m5c5Uoh"
      },
      "source": [
        "#**Importing Necessary Libraries**"
      ]
    },
    {
      "cell_type": "code",
      "metadata": {
        "id": "oCRFXbhkhOwY"
      },
      "source": [
        "import numpy as np\n",
        "import pandas as pd\n",
        "\n",
        "from sklearn.impute import SimpleImputer\n",
        "\n",
        "import matplotlib.pyplot as plt\n",
        "from sklearn.feature_selection import mutual_info_classif"
      ],
      "execution_count": 64,
      "outputs": []
    },
    {
      "cell_type": "markdown",
      "metadata": {
        "id": "G3m6W-ulmT2C"
      },
      "source": [
        "#**Loading Data**"
      ]
    },
    {
      "cell_type": "code",
      "metadata": {
        "id": "aUehmYJ3mT2D"
      },
      "source": [
        "features_df = pd.read_csv(\"/content/drive/MyDrive/Machine Learning/Train_set_values.csv\")    # train set data\n",
        "\n",
        "labels_df = pd.read_csv(\"/content/drive/MyDrive/Machine Learning/Train_set_labels.csv\")      # train set labels data\n",
        "\n",
        "test_df = pd.read_csv(\"/content/drive/MyDrive/Machine Learning/Test_set_values.csv\")         # test set data"
      ],
      "execution_count": 177,
      "outputs": []
    },
    {
      "cell_type": "code",
      "metadata": {
        "colab": {
          "base_uri": "https://localhost:8080/"
        },
        "id": "VL_o46mymT2D",
        "outputId": "1209ba24-0a92-4425-8542-2be5c50f77c2"
      },
      "source": [
        "features_df.info()"
      ],
      "execution_count": 178,
      "outputs": [
        {
          "output_type": "stream",
          "name": "stdout",
          "text": [
            "<class 'pandas.core.frame.DataFrame'>\n",
            "RangeIndex: 59400 entries, 0 to 59399\n",
            "Data columns (total 40 columns):\n",
            " #   Column                 Non-Null Count  Dtype  \n",
            "---  ------                 --------------  -----  \n",
            " 0   id                     59400 non-null  int64  \n",
            " 1   amount_tsh             59400 non-null  float64\n",
            " 2   date_recorded          59400 non-null  object \n",
            " 3   funder                 55765 non-null  object \n",
            " 4   gps_height             59400 non-null  int64  \n",
            " 5   installer              55745 non-null  object \n",
            " 6   longitude              59400 non-null  float64\n",
            " 7   latitude               59400 non-null  float64\n",
            " 8   wpt_name               59400 non-null  object \n",
            " 9   num_private            59400 non-null  int64  \n",
            " 10  basin                  59400 non-null  object \n",
            " 11  subvillage             59029 non-null  object \n",
            " 12  region                 59400 non-null  object \n",
            " 13  region_code            59400 non-null  int64  \n",
            " 14  district_code          59400 non-null  int64  \n",
            " 15  lga                    59400 non-null  object \n",
            " 16  ward                   59400 non-null  object \n",
            " 17  population             59400 non-null  int64  \n",
            " 18  public_meeting         56066 non-null  object \n",
            " 19  recorded_by            59400 non-null  object \n",
            " 20  scheme_management      55523 non-null  object \n",
            " 21  scheme_name            31234 non-null  object \n",
            " 22  permit                 56344 non-null  object \n",
            " 23  construction_year      59400 non-null  int64  \n",
            " 24  extraction_type        59400 non-null  object \n",
            " 25  extraction_type_group  59400 non-null  object \n",
            " 26  extraction_type_class  59400 non-null  object \n",
            " 27  management             59400 non-null  object \n",
            " 28  management_group       59400 non-null  object \n",
            " 29  payment                59400 non-null  object \n",
            " 30  payment_type           59400 non-null  object \n",
            " 31  water_quality          59400 non-null  object \n",
            " 32  quality_group          59400 non-null  object \n",
            " 33  quantity               59400 non-null  object \n",
            " 34  quantity_group         59400 non-null  object \n",
            " 35  source                 59400 non-null  object \n",
            " 36  source_type            59400 non-null  object \n",
            " 37  source_class           59400 non-null  object \n",
            " 38  waterpoint_type        59400 non-null  object \n",
            " 39  waterpoint_type_group  59400 non-null  object \n",
            "dtypes: float64(3), int64(7), object(30)\n",
            "memory usage: 18.1+ MB\n"
          ]
        }
      ]
    },
    {
      "cell_type": "code",
      "metadata": {
        "colab": {
          "base_uri": "https://localhost:8080/"
        },
        "id": "p6BTcM3lmT2D",
        "outputId": "34061eab-8ea0-44fb-9c9d-8f2178f2741c"
      },
      "source": [
        "labels_df.info()"
      ],
      "execution_count": 179,
      "outputs": [
        {
          "output_type": "stream",
          "name": "stdout",
          "text": [
            "<class 'pandas.core.frame.DataFrame'>\n",
            "RangeIndex: 59400 entries, 0 to 59399\n",
            "Data columns (total 2 columns):\n",
            " #   Column        Non-Null Count  Dtype \n",
            "---  ------        --------------  ----- \n",
            " 0   id            59400 non-null  int64 \n",
            " 1   status_group  59400 non-null  object\n",
            "dtypes: int64(1), object(1)\n",
            "memory usage: 928.2+ KB\n"
          ]
        }
      ]
    },
    {
      "cell_type": "code",
      "metadata": {
        "id": "P9KgKdRBBkAi"
      },
      "source": [
        "train_labels = labels_df.drop(columns=['id'])\n",
        "train_set = features_df.drop(columns=['id'])"
      ],
      "execution_count": 180,
      "outputs": []
    },
    {
      "cell_type": "code",
      "metadata": {
        "id": "0w8Yhc9gKYse"
      },
      "source": [
        "features_df['from'] = 'train'\n",
        "test_df['from'] = 'test'\n",
        "joined_df = features_df.append(test_df)"
      ],
      "execution_count": 181,
      "outputs": []
    },
    {
      "cell_type": "code",
      "metadata": {
        "colab": {
          "base_uri": "https://localhost:8080/"
        },
        "id": "tTP1EeZbKSHY",
        "outputId": "841f091d-b231-4b1e-d04c-d550a0593c47"
      },
      "source": [
        "print(joined_df.shape)"
      ],
      "execution_count": 182,
      "outputs": [
        {
          "output_type": "stream",
          "name": "stdout",
          "text": [
            "(74250, 41)\n"
          ]
        }
      ]
    },
    {
      "cell_type": "markdown",
      "metadata": {
        "id": "nP1-E6EmfLhN"
      },
      "source": [
        "#**Pre-processing**"
      ]
    },
    {
      "cell_type": "markdown",
      "metadata": {
        "id": "YumsGvoroZAr"
      },
      "source": [
        "**Plot mutual information scores**\n",
        "\n",
        "---\n",
        "\n"
      ]
    },
    {
      "cell_type": "code",
      "metadata": {
        "id": "2BqdojCYoYJm"
      },
      "source": [
        "def make_mi_scores(X, y):\n",
        "    X_mi = X.copy()\n",
        "    y_mi = y.copy()\n",
        "    for colname in X_mi.select_dtypes([\"object\", \"category\"]):\n",
        "        X_mi[colname], _ = X_mi[colname].factorize()\n",
        "    # All discrete features should now have integer dtypes\n",
        "    discrete_features = [pd.api.types.is_integer_dtype(t) for t in X_mi.dtypes]\n",
        "    mi_scores = mutual_info_classif(X_mi, y_mi.values.ravel(), discrete_features=discrete_features, random_state=0)\n",
        "    mi_scores = pd.Series(mi_scores, name=\"MI Scores\", index=X_mi.columns)\n",
        "    mi_scores = mi_scores.sort_values(ascending=False)\n",
        "    return mi_scores\n",
        "\n",
        "def plot_mi_scores(scores):\n",
        "    scores = scores.sort_values(ascending=True)\n",
        "    width = np.arange(len(scores))\n",
        "    ticks = list(scores.index)\n",
        "    plt.barh(width, scores)\n",
        "    plt.yticks(width, ticks)\n",
        "    plt.title(\"Mutual Information Scores\")"
      ],
      "execution_count": 163,
      "outputs": []
    },
    {
      "cell_type": "code",
      "metadata": {
        "colab": {
          "base_uri": "https://localhost:8080/",
          "height": 838
        },
        "id": "uDao0gfxoROa",
        "outputId": "dd9afe41-1868-49fc-974f-f24bfea6471a"
      },
      "source": [
        "mi_scores = make_mi_scores(train_set, train_labels)\n",
        "plt.figure(dpi=100, figsize=(15, 10))\n",
        "plot_mi_scores(mi_scores.head(40))"
      ],
      "execution_count": 164,
      "outputs": [
        {
          "output_type": "display_data",
          "data": {
            "image/png": "[encoded data removed]",
            "text/plain": [
              "<Figure size 1500x1000 with 1 Axes>"
            ]
          },
          "metadata": {
            "needs_background": "light"
          }
        }
      ]
    },
    {
      "cell_type": "code",
      "metadata": {
        "colab": {
          "base_uri": "https://localhost:8080/"
        },
        "id": "gfrEVAgPoyxv",
        "outputId": "477271c8-021b-4bd6-83e0-7358807484c7"
      },
      "source": [
        "df_categorical = train_set.select_dtypes(include='object')\n",
        "object_cols = df_categorical.columns.tolist()     #String columns in the dataset\n",
        "\n",
        "df_numerical = train_set.select_dtypes(exclude='object')\n",
        "numeric_cols = df_numerical.columns.tolist()      #Numeric columns in the dataset\n",
        "\n",
        "print(object_cols)\n",
        "print(numeric_cols)"
      ],
      "execution_count": 183,
      "outputs": [
        {
          "output_type": "stream",
          "name": "stdout",
          "text": [
            "['date_recorded', 'funder', 'installer', 'wpt_name', 'basin', 'subvillage', 'region', 'lga', 'ward', 'public_meeting', 'recorded_by', 'scheme_management', 'scheme_name', 'permit', 'extraction_type', 'extraction_type_group', 'extraction_type_class', 'management', 'management_group', 'payment', 'payment_type', 'water_quality', 'quality_group', 'quantity', 'quantity_group', 'source', 'source_type', 'source_class', 'waterpoint_type', 'waterpoint_type_group']\n",
            "['amount_tsh', 'gps_height', 'longitude', 'latitude', 'num_private', 'region_code', 'district_code', 'population', 'construction_year']\n"
          ]
        }
      ]
    },
    {
      "cell_type": "markdown",
      "metadata": {
        "id": "o4cJdfayqW5o"
      },
      "source": [
        "**Handling Missing and Outlier Values**\n",
        "\n",
        "---\n",
        "\n"
      ]
    },
    {
      "cell_type": "markdown",
      "metadata": {
        "id": "BRbOwok9rGKd"
      },
      "source": [
        "The **installer** columns contain value 0 as observed during EDA This are outliers and do not match the relevant column which contains installer names.These are converted to \"unknown\"\n",
        "\n",
        "The **longitude and population** outliers are converted to mean values.\n",
        "\n",
        "The **construction year** missing values were converted to the median value"
      ]
    },
    {
      "cell_type": "code",
      "metadata": {
        "id": "kUi6HE4tu_WS"
      },
      "source": [
        "joined_df['installer'].replace(to_replace = '0', value ='Unknown' , inplace=True)\n",
        "joined_df['longitude'].replace(to_replace = 0, value =None , inplace=True)\n",
        "joined_df['population'].replace(to_replace = 0 , value = None, inplace=True)\n",
        "joined_df['construction_year'].replace(to_replace = 0, value = None, inplace=True)"
      ],
      "execution_count": 184,
      "outputs": []
    },
    {
      "cell_type": "code",
      "metadata": {
        "id": "nXQY_AYmDXyW"
      },
      "source": [
        "replace_cols = ['longitude', 'population']\n",
        "\n",
        "imputer = SimpleImputer(missing_values=np.nan, strategy='mean')\n",
        "for cols in replace_cols:\n",
        "  joined_df[cols] = imputer.fit_transform(joined_df[cols].values.reshape(-1,1))[:,0]\n",
        "\n",
        "imputer_d = SimpleImputer(missing_values=np.nan, strategy='median')\n",
        "joined_df['construction_year'] = imputer_d.fit_transform(joined_df['construction_year'].values.reshape(-1,1))[:,0]"
      ],
      "execution_count": 185,
      "outputs": []
    },
    {
      "cell_type": "markdown",
      "metadata": {
        "id": "Bu3FpZsNsfLs"
      },
      "source": [
        "The values of the other columns with missing values are converted to a common value unknown. No numeric columns had missing values."
      ]
    },
    {
      "cell_type": "code",
      "metadata": {
        "id": "7flyfTyN8Wd0"
      },
      "source": [
        "joined_df['funder'].fillna(value='Unknown', inplace=True)\n",
        "joined_df['installer'].fillna(value='Unknown' , inplace=True)\n",
        "joined_df['subvillage'].fillna(value='Unknown' , inplace=True)\n",
        "joined_df['public_meeting'].fillna(value='Unknown' , inplace=True)\n",
        "joined_df['scheme_management'].fillna(value='Unknown' , inplace=True)\n",
        "joined_df['scheme_name'].fillna(value='Unknown' , inplace=True)\n",
        "joined_df['permit'].fillna(value='Unknown' , inplace=True)"
      ],
      "execution_count": 186,
      "outputs": []
    },
    {
      "cell_type": "markdown",
      "metadata": {
        "id": "0-rzkxdnrY19"
      },
      "source": [
        "**Encoding features to be used in classifiers**\n",
        "\n",
        "---\n",
        "\n"
      ]
    },
    {
      "cell_type": "code",
      "metadata": {
        "id": "0pLWU2MmhLrZ"
      },
      "source": [
        "final_df = joined_df.copy()"
      ],
      "execution_count": 187,
      "outputs": []
    },
    {
      "cell_type": "code",
      "metadata": {
        "id": "IIkLMm6Ax5p4"
      },
      "source": [
        "mask = final_df.applymap(type) != bool\n",
        "d = {True: 'TRUE', False: 'FALSE'}\n",
        "\n",
        "final_df = final_df.where(mask, final_df.replace(d))"
      ],
      "execution_count": 170,
      "outputs": []
    },
    {
      "cell_type": "markdown",
      "metadata": {
        "id": "5IlKlU3ztpWA"
      },
      "source": [
        "**Label Encoding on the features**"
      ]
    },
    {
      "cell_type": "code",
      "metadata": {
        "id": "beEjNTOlkKRn",
        "colab": {
          "base_uri": "https://localhost:8080/",
          "height": 224
        },
        "outputId": "45dff37e-a400-4dc3-99c1-3a88c7dcff92"
      },
      "source": [
        "from sklearn.preprocessing import OrdinalEncoder\n",
        "\n",
        "for item in object_cols:\n",
        "  ordinalencoder = OrdinalEncoder()\n",
        "  final_df[item] = ordinalencoder.fit_transform(final_df[[item]])\n",
        "\n",
        "final_df.head()"
      ],
      "execution_count": 171,
      "outputs": [
        {
          "output_type": "execute_result",
          "data": {
            "text/html": [
              "<div>\n",
              "<style scoped>\n",
              "    .dataframe tbody tr th:only-of-type {\n",
              "        vertical-align: middle;\n",
              "    }\n",
              "\n",
              "    .dataframe tbody tr th {\n",
              "        vertical-align: top;\n",
              "    }\n",
              "\n",
              "    .dataframe thead th {\n",
              "        text-align: right;\n",
              "    }\n",
              "</style>\n",
              "<table border=\"1\" class=\"dataframe\">\n",
              "  <thead>\n",
              "    <tr style=\"text-align: right;\">\n",
              "      <th></th>\n",
              "      <th>id</th>\n",
              "      <th>amount_tsh</th>\n",
              "      <th>date_recorded</th>\n",
              "      <th>funder</th>\n",
              "      <th>gps_height</th>\n",
              "      <th>installer</th>\n",
              "      <th>longitude</th>\n",
              "      <th>latitude</th>\n",
              "      <th>wpt_name</th>\n",
              "      <th>num_private</th>\n",
              "      <th>basin</th>\n",
              "      <th>subvillage</th>\n",
              "      <th>region</th>\n",
              "      <th>region_code</th>\n",
              "      <th>district_code</th>\n",
              "      <th>lga</th>\n",
              "      <th>ward</th>\n",
              "      <th>population</th>\n",
              "      <th>public_meeting</th>\n",
              "      <th>recorded_by</th>\n",
              "      <th>scheme_management</th>\n",
              "      <th>scheme_name</th>\n",
              "      <th>permit</th>\n",
              "      <th>construction_year</th>\n",
              "      <th>extraction_type</th>\n",
              "      <th>extraction_type_group</th>\n",
              "      <th>extraction_type_class</th>\n",
              "      <th>management</th>\n",
              "      <th>management_group</th>\n",
              "      <th>payment</th>\n",
              "      <th>payment_type</th>\n",
              "      <th>water_quality</th>\n",
              "      <th>quality_group</th>\n",
              "      <th>quantity</th>\n",
              "      <th>quantity_group</th>\n",
              "      <th>source</th>\n",
              "      <th>source_type</th>\n",
              "      <th>source_class</th>\n",
              "      <th>waterpoint_type</th>\n",
              "      <th>waterpoint_type_group</th>\n",
              "      <th>from</th>\n",
              "    </tr>\n",
              "  </thead>\n",
              "  <tbody>\n",
              "    <tr>\n",
              "      <th>0</th>\n",
              "      <td>69572</td>\n",
              "      <td>6000.0</td>\n",
              "      <td>54.0</td>\n",
              "      <td>1548.0</td>\n",
              "      <td>1390</td>\n",
              "      <td>1705.0</td>\n",
              "      <td>34.938093</td>\n",
              "      <td>-9.856322</td>\n",
              "      <td>45683.0</td>\n",
              "      <td>0</td>\n",
              "      <td>1.0</td>\n",
              "      <td>13116.0</td>\n",
              "      <td>3.0</td>\n",
              "      <td>11</td>\n",
              "      <td>5</td>\n",
              "      <td>51.0</td>\n",
              "      <td>1429.0</td>\n",
              "      <td>109.0</td>\n",
              "      <td>1.0</td>\n",
              "      <td>0.0</td>\n",
              "      <td>8.0</td>\n",
              "      <td>2388.0</td>\n",
              "      <td>0.0</td>\n",
              "      <td>1999.0</td>\n",
              "      <td>3.0</td>\n",
              "      <td>1.0</td>\n",
              "      <td>0.0</td>\n",
              "      <td>7.0</td>\n",
              "      <td>4.0</td>\n",
              "      <td>2.0</td>\n",
              "      <td>0.0</td>\n",
              "      <td>6.0</td>\n",
              "      <td>2.0</td>\n",
              "      <td>1.0</td>\n",
              "      <td>1.0</td>\n",
              "      <td>8.0</td>\n",
              "      <td>6.0</td>\n",
              "      <td>0.0</td>\n",
              "      <td>1.0</td>\n",
              "      <td>1.0</td>\n",
              "      <td>train</td>\n",
              "    </tr>\n",
              "    <tr>\n",
              "      <th>1</th>\n",
              "      <td>8776</td>\n",
              "      <td>0.0</td>\n",
              "      <td>322.0</td>\n",
              "      <td>522.0</td>\n",
              "      <td>1399</td>\n",
              "      <td>609.0</td>\n",
              "      <td>34.698766</td>\n",
              "      <td>-2.147466</td>\n",
              "      <td>45426.0</td>\n",
              "      <td>0</td>\n",
              "      <td>4.0</td>\n",
              "      <td>17596.0</td>\n",
              "      <td>9.0</td>\n",
              "      <td>20</td>\n",
              "      <td>2</td>\n",
              "      <td>103.0</td>\n",
              "      <td>1581.0</td>\n",
              "      <td>280.0</td>\n",
              "      <td>2.0</td>\n",
              "      <td>0.0</td>\n",
              "      <td>2.0</td>\n",
              "      <td>2674.0</td>\n",
              "      <td>1.0</td>\n",
              "      <td>2010.0</td>\n",
              "      <td>3.0</td>\n",
              "      <td>1.0</td>\n",
              "      <td>0.0</td>\n",
              "      <td>11.0</td>\n",
              "      <td>4.0</td>\n",
              "      <td>0.0</td>\n",
              "      <td>2.0</td>\n",
              "      <td>6.0</td>\n",
              "      <td>2.0</td>\n",
              "      <td>2.0</td>\n",
              "      <td>2.0</td>\n",
              "      <td>5.0</td>\n",
              "      <td>3.0</td>\n",
              "      <td>1.0</td>\n",
              "      <td>1.0</td>\n",
              "      <td>1.0</td>\n",
              "      <td>train</td>\n",
              "    </tr>\n",
              "    <tr>\n",
              "      <th>2</th>\n",
              "      <td>34310</td>\n",
              "      <td>25.0</td>\n",
              "      <td>313.0</td>\n",
              "      <td>924.0</td>\n",
              "      <td>686</td>\n",
              "      <td>2295.0</td>\n",
              "      <td>37.460664</td>\n",
              "      <td>-3.821329</td>\n",
              "      <td>17767.0</td>\n",
              "      <td>0</td>\n",
              "      <td>5.0</td>\n",
              "      <td>10096.0</td>\n",
              "      <td>8.0</td>\n",
              "      <td>21</td>\n",
              "      <td>4</td>\n",
              "      <td>108.0</td>\n",
              "      <td>1629.0</td>\n",
              "      <td>250.0</td>\n",
              "      <td>1.0</td>\n",
              "      <td>0.0</td>\n",
              "      <td>8.0</td>\n",
              "      <td>2261.0</td>\n",
              "      <td>1.0</td>\n",
              "      <td>2009.0</td>\n",
              "      <td>3.0</td>\n",
              "      <td>1.0</td>\n",
              "      <td>0.0</td>\n",
              "      <td>7.0</td>\n",
              "      <td>4.0</td>\n",
              "      <td>4.0</td>\n",
              "      <td>5.0</td>\n",
              "      <td>6.0</td>\n",
              "      <td>2.0</td>\n",
              "      <td>1.0</td>\n",
              "      <td>1.0</td>\n",
              "      <td>0.0</td>\n",
              "      <td>1.0</td>\n",
              "      <td>1.0</td>\n",
              "      <td>2.0</td>\n",
              "      <td>1.0</td>\n",
              "      <td>train</td>\n",
              "    </tr>\n",
              "    <tr>\n",
              "      <th>3</th>\n",
              "      <td>67743</td>\n",
              "      <td>0.0</td>\n",
              "      <td>285.0</td>\n",
              "      <td>1961.0</td>\n",
              "      <td>263</td>\n",
              "      <td>2077.0</td>\n",
              "      <td>38.486161</td>\n",
              "      <td>-11.155298</td>\n",
              "      <td>45537.0</td>\n",
              "      <td>0</td>\n",
              "      <td>7.0</td>\n",
              "      <td>9998.0</td>\n",
              "      <td>12.0</td>\n",
              "      <td>90</td>\n",
              "      <td>63</td>\n",
              "      <td>87.0</td>\n",
              "      <td>1576.0</td>\n",
              "      <td>58.0</td>\n",
              "      <td>1.0</td>\n",
              "      <td>0.0</td>\n",
              "      <td>8.0</td>\n",
              "      <td>2674.0</td>\n",
              "      <td>1.0</td>\n",
              "      <td>1986.0</td>\n",
              "      <td>14.0</td>\n",
              "      <td>10.0</td>\n",
              "      <td>5.0</td>\n",
              "      <td>7.0</td>\n",
              "      <td>4.0</td>\n",
              "      <td>0.0</td>\n",
              "      <td>2.0</td>\n",
              "      <td>6.0</td>\n",
              "      <td>2.0</td>\n",
              "      <td>0.0</td>\n",
              "      <td>0.0</td>\n",
              "      <td>3.0</td>\n",
              "      <td>0.0</td>\n",
              "      <td>0.0</td>\n",
              "      <td>2.0</td>\n",
              "      <td>1.0</td>\n",
              "      <td>train</td>\n",
              "    </tr>\n",
              "    <tr>\n",
              "      <th>4</th>\n",
              "      <td>19728</td>\n",
              "      <td>0.0</td>\n",
              "      <td>111.0</td>\n",
              "      <td>20.0</td>\n",
              "      <td>0</td>\n",
              "      <td>132.0</td>\n",
              "      <td>31.130847</td>\n",
              "      <td>-1.825359</td>\n",
              "      <td>43411.0</td>\n",
              "      <td>0</td>\n",
              "      <td>4.0</td>\n",
              "      <td>8583.0</td>\n",
              "      <td>4.0</td>\n",
              "      <td>18</td>\n",
              "      <td>1</td>\n",
              "      <td>26.0</td>\n",
              "      <td>1692.0</td>\n",
              "      <td>58.0</td>\n",
              "      <td>1.0</td>\n",
              "      <td>0.0</td>\n",
              "      <td>7.0</td>\n",
              "      <td>2674.0</td>\n",
              "      <td>1.0</td>\n",
              "      <td>1986.0</td>\n",
              "      <td>3.0</td>\n",
              "      <td>1.0</td>\n",
              "      <td>0.0</td>\n",
              "      <td>1.0</td>\n",
              "      <td>1.0</td>\n",
              "      <td>0.0</td>\n",
              "      <td>2.0</td>\n",
              "      <td>6.0</td>\n",
              "      <td>2.0</td>\n",
              "      <td>3.0</td>\n",
              "      <td>3.0</td>\n",
              "      <td>5.0</td>\n",
              "      <td>3.0</td>\n",
              "      <td>1.0</td>\n",
              "      <td>1.0</td>\n",
              "      <td>1.0</td>\n",
              "      <td>train</td>\n",
              "    </tr>\n",
              "  </tbody>\n",
              "</table>\n",
              "</div>"
            ],
            "text/plain": [
              "      id  amount_tsh  ...  waterpoint_type_group   from\n",
              "0  69572      6000.0  ...                    1.0  train\n",
              "1   8776         0.0  ...                    1.0  train\n",
              "2  34310        25.0  ...                    1.0  train\n",
              "3  67743         0.0  ...                    1.0  train\n",
              "4  19728         0.0  ...                    1.0  train\n",
              "\n",
              "[5 rows x 41 columns]"
            ]
          },
          "metadata": {},
          "execution_count": 171
        }
      ]
    },
    {
      "cell_type": "markdown",
      "metadata": {
        "id": "G1ffCprkt6mM"
      },
      "source": [
        "**One hot encoding on the features**"
      ]
    },
    {
      "cell_type": "code",
      "metadata": {
        "id": "ScnaeeG5-fL9"
      },
      "source": [
        "final_df = pd.get_dummies(final_df)"
      ],
      "execution_count": 26,
      "outputs": []
    },
    {
      "cell_type": "markdown",
      "metadata": {
        "id": "Dyqa7lfRuX4F"
      },
      "source": [
        "Label encoding proved to be effective and efficient considering the large number of features present"
      ]
    },
    {
      "cell_type": "markdown",
      "metadata": {
        "id": "qSogayggvWAP"
      },
      "source": [
        "**Min-Max Normalising the numerical columns**\n",
        "\n",
        "---\n",
        "\n"
      ]
    },
    {
      "cell_type": "code",
      "metadata": {
        "colab": {
          "base_uri": "https://localhost:8080/",
          "height": 224
        },
        "id": "revQmTB1vgEW",
        "outputId": "3279c2b9-0208-4917-93da-4277f76cf58b"
      },
      "source": [
        "from sklearn import preprocessing\n",
        "import numpy as np\n",
        "\n",
        "min_max_scaler = preprocessing.MinMaxScaler()\n",
        "final_df[numeric_cols] = min_max_scaler.fit_transform(final_df[numeric_cols])\n",
        "\n",
        "final_df.head()"
      ],
      "execution_count": 172,
      "outputs": [
        {
          "output_type": "execute_result",
          "data": {
            "text/html": [
              "<div>\n",
              "<style scoped>\n",
              "    .dataframe tbody tr th:only-of-type {\n",
              "        vertical-align: middle;\n",
              "    }\n",
              "\n",
              "    .dataframe tbody tr th {\n",
              "        vertical-align: top;\n",
              "    }\n",
              "\n",
              "    .dataframe thead th {\n",
              "        text-align: right;\n",
              "    }\n",
              "</style>\n",
              "<table border=\"1\" class=\"dataframe\">\n",
              "  <thead>\n",
              "    <tr style=\"text-align: right;\">\n",
              "      <th></th>\n",
              "      <th>id</th>\n",
              "      <th>amount_tsh</th>\n",
              "      <th>date_recorded</th>\n",
              "      <th>funder</th>\n",
              "      <th>gps_height</th>\n",
              "      <th>installer</th>\n",
              "      <th>longitude</th>\n",
              "      <th>latitude</th>\n",
              "      <th>wpt_name</th>\n",
              "      <th>num_private</th>\n",
              "      <th>basin</th>\n",
              "      <th>subvillage</th>\n",
              "      <th>region</th>\n",
              "      <th>region_code</th>\n",
              "      <th>district_code</th>\n",
              "      <th>lga</th>\n",
              "      <th>ward</th>\n",
              "      <th>population</th>\n",
              "      <th>public_meeting</th>\n",
              "      <th>recorded_by</th>\n",
              "      <th>scheme_management</th>\n",
              "      <th>scheme_name</th>\n",
              "      <th>permit</th>\n",
              "      <th>construction_year</th>\n",
              "      <th>extraction_type</th>\n",
              "      <th>extraction_type_group</th>\n",
              "      <th>extraction_type_class</th>\n",
              "      <th>management</th>\n",
              "      <th>management_group</th>\n",
              "      <th>payment</th>\n",
              "      <th>payment_type</th>\n",
              "      <th>water_quality</th>\n",
              "      <th>quality_group</th>\n",
              "      <th>quantity</th>\n",
              "      <th>quantity_group</th>\n",
              "      <th>source</th>\n",
              "      <th>source_type</th>\n",
              "      <th>source_class</th>\n",
              "      <th>waterpoint_type</th>\n",
              "      <th>waterpoint_type_group</th>\n",
              "      <th>from</th>\n",
              "    </tr>\n",
              "  </thead>\n",
              "  <tbody>\n",
              "    <tr>\n",
              "      <th>0</th>\n",
              "      <td>69572</td>\n",
              "      <td>0.017143</td>\n",
              "      <td>54.0</td>\n",
              "      <td>1548.0</td>\n",
              "      <td>0.516219</td>\n",
              "      <td>1705.0</td>\n",
              "      <td>0.496455</td>\n",
              "      <td>0.153923</td>\n",
              "      <td>45683.0</td>\n",
              "      <td>0.0</td>\n",
              "      <td>1.0</td>\n",
              "      <td>13116.0</td>\n",
              "      <td>3.0</td>\n",
              "      <td>0.102041</td>\n",
              "      <td>0.0625</td>\n",
              "      <td>51.0</td>\n",
              "      <td>1429.0</td>\n",
              "      <td>0.003541</td>\n",
              "      <td>1.0</td>\n",
              "      <td>0.0</td>\n",
              "      <td>8.0</td>\n",
              "      <td>2388.0</td>\n",
              "      <td>0.0</td>\n",
              "      <td>0.735849</td>\n",
              "      <td>3.0</td>\n",
              "      <td>1.0</td>\n",
              "      <td>0.0</td>\n",
              "      <td>7.0</td>\n",
              "      <td>4.0</td>\n",
              "      <td>2.0</td>\n",
              "      <td>0.0</td>\n",
              "      <td>6.0</td>\n",
              "      <td>2.0</td>\n",
              "      <td>1.0</td>\n",
              "      <td>1.0</td>\n",
              "      <td>8.0</td>\n",
              "      <td>6.0</td>\n",
              "      <td>0.0</td>\n",
              "      <td>1.0</td>\n",
              "      <td>1.0</td>\n",
              "      <td>train</td>\n",
              "    </tr>\n",
              "    <tr>\n",
              "      <th>1</th>\n",
              "      <td>8776</td>\n",
              "      <td>0.000000</td>\n",
              "      <td>322.0</td>\n",
              "      <td>522.0</td>\n",
              "      <td>0.519358</td>\n",
              "      <td>609.0</td>\n",
              "      <td>0.474167</td>\n",
              "      <td>0.815659</td>\n",
              "      <td>45426.0</td>\n",
              "      <td>0.0</td>\n",
              "      <td>4.0</td>\n",
              "      <td>17596.0</td>\n",
              "      <td>9.0</td>\n",
              "      <td>0.193878</td>\n",
              "      <td>0.0250</td>\n",
              "      <td>103.0</td>\n",
              "      <td>1581.0</td>\n",
              "      <td>0.009148</td>\n",
              "      <td>2.0</td>\n",
              "      <td>0.0</td>\n",
              "      <td>2.0</td>\n",
              "      <td>2674.0</td>\n",
              "      <td>1.0</td>\n",
              "      <td>0.943396</td>\n",
              "      <td>3.0</td>\n",
              "      <td>1.0</td>\n",
              "      <td>0.0</td>\n",
              "      <td>11.0</td>\n",
              "      <td>4.0</td>\n",
              "      <td>0.0</td>\n",
              "      <td>2.0</td>\n",
              "      <td>6.0</td>\n",
              "      <td>2.0</td>\n",
              "      <td>2.0</td>\n",
              "      <td>2.0</td>\n",
              "      <td>5.0</td>\n",
              "      <td>3.0</td>\n",
              "      <td>1.0</td>\n",
              "      <td>1.0</td>\n",
              "      <td>1.0</td>\n",
              "      <td>train</td>\n",
              "    </tr>\n",
              "    <tr>\n",
              "      <th>2</th>\n",
              "      <td>34310</td>\n",
              "      <td>0.000071</td>\n",
              "      <td>313.0</td>\n",
              "      <td>924.0</td>\n",
              "      <td>0.270666</td>\n",
              "      <td>2295.0</td>\n",
              "      <td>0.731374</td>\n",
              "      <td>0.671973</td>\n",
              "      <td>17767.0</td>\n",
              "      <td>0.0</td>\n",
              "      <td>5.0</td>\n",
              "      <td>10096.0</td>\n",
              "      <td>8.0</td>\n",
              "      <td>0.204082</td>\n",
              "      <td>0.0500</td>\n",
              "      <td>108.0</td>\n",
              "      <td>1629.0</td>\n",
              "      <td>0.008164</td>\n",
              "      <td>1.0</td>\n",
              "      <td>0.0</td>\n",
              "      <td>8.0</td>\n",
              "      <td>2261.0</td>\n",
              "      <td>1.0</td>\n",
              "      <td>0.924528</td>\n",
              "      <td>3.0</td>\n",
              "      <td>1.0</td>\n",
              "      <td>0.0</td>\n",
              "      <td>7.0</td>\n",
              "      <td>4.0</td>\n",
              "      <td>4.0</td>\n",
              "      <td>5.0</td>\n",
              "      <td>6.0</td>\n",
              "      <td>2.0</td>\n",
              "      <td>1.0</td>\n",
              "      <td>1.0</td>\n",
              "      <td>0.0</td>\n",
              "      <td>1.0</td>\n",
              "      <td>1.0</td>\n",
              "      <td>2.0</td>\n",
              "      <td>1.0</td>\n",
              "      <td>train</td>\n",
              "    </tr>\n",
              "    <tr>\n",
              "      <th>3</th>\n",
              "      <td>67743</td>\n",
              "      <td>0.000000</td>\n",
              "      <td>285.0</td>\n",
              "      <td>1961.0</td>\n",
              "      <td>0.123125</td>\n",
              "      <td>2077.0</td>\n",
              "      <td>0.826875</td>\n",
              "      <td>0.042418</td>\n",
              "      <td>45537.0</td>\n",
              "      <td>0.0</td>\n",
              "      <td>7.0</td>\n",
              "      <td>9998.0</td>\n",
              "      <td>12.0</td>\n",
              "      <td>0.908163</td>\n",
              "      <td>0.7875</td>\n",
              "      <td>87.0</td>\n",
              "      <td>1576.0</td>\n",
              "      <td>0.001869</td>\n",
              "      <td>1.0</td>\n",
              "      <td>0.0</td>\n",
              "      <td>8.0</td>\n",
              "      <td>2674.0</td>\n",
              "      <td>1.0</td>\n",
              "      <td>0.490566</td>\n",
              "      <td>14.0</td>\n",
              "      <td>10.0</td>\n",
              "      <td>5.0</td>\n",
              "      <td>7.0</td>\n",
              "      <td>4.0</td>\n",
              "      <td>0.0</td>\n",
              "      <td>2.0</td>\n",
              "      <td>6.0</td>\n",
              "      <td>2.0</td>\n",
              "      <td>0.0</td>\n",
              "      <td>0.0</td>\n",
              "      <td>3.0</td>\n",
              "      <td>0.0</td>\n",
              "      <td>0.0</td>\n",
              "      <td>2.0</td>\n",
              "      <td>1.0</td>\n",
              "      <td>train</td>\n",
              "    </tr>\n",
              "    <tr>\n",
              "      <th>4</th>\n",
              "      <td>19728</td>\n",
              "      <td>0.000000</td>\n",
              "      <td>111.0</td>\n",
              "      <td>20.0</td>\n",
              "      <td>0.031392</td>\n",
              "      <td>132.0</td>\n",
              "      <td>0.141899</td>\n",
              "      <td>0.843309</td>\n",
              "      <td>43411.0</td>\n",
              "      <td>0.0</td>\n",
              "      <td>4.0</td>\n",
              "      <td>8583.0</td>\n",
              "      <td>4.0</td>\n",
              "      <td>0.173469</td>\n",
              "      <td>0.0125</td>\n",
              "      <td>26.0</td>\n",
              "      <td>1692.0</td>\n",
              "      <td>0.001869</td>\n",
              "      <td>1.0</td>\n",
              "      <td>0.0</td>\n",
              "      <td>7.0</td>\n",
              "      <td>2674.0</td>\n",
              "      <td>1.0</td>\n",
              "      <td>0.490566</td>\n",
              "      <td>3.0</td>\n",
              "      <td>1.0</td>\n",
              "      <td>0.0</td>\n",
              "      <td>1.0</td>\n",
              "      <td>1.0</td>\n",
              "      <td>0.0</td>\n",
              "      <td>2.0</td>\n",
              "      <td>6.0</td>\n",
              "      <td>2.0</td>\n",
              "      <td>3.0</td>\n",
              "      <td>3.0</td>\n",
              "      <td>5.0</td>\n",
              "      <td>3.0</td>\n",
              "      <td>1.0</td>\n",
              "      <td>1.0</td>\n",
              "      <td>1.0</td>\n",
              "      <td>train</td>\n",
              "    </tr>\n",
              "  </tbody>\n",
              "</table>\n",
              "</div>"
            ],
            "text/plain": [
              "      id  amount_tsh  ...  waterpoint_type_group   from\n",
              "0  69572    0.017143  ...                    1.0  train\n",
              "1   8776    0.000000  ...                    1.0  train\n",
              "2  34310    0.000071  ...                    1.0  train\n",
              "3  67743    0.000000  ...                    1.0  train\n",
              "4  19728    0.000000  ...                    1.0  train\n",
              "\n",
              "[5 rows x 41 columns]"
            ]
          },
          "metadata": {},
          "execution_count": 172
        }
      ]
    },
    {
      "cell_type": "markdown",
      "metadata": {
        "id": "aAxxHqisz9vd"
      },
      "source": [
        "#**Feature Engineering**"
      ]
    },
    {
      "cell_type": "code",
      "metadata": {
        "colab": {
          "base_uri": "https://localhost:8080/"
        },
        "id": "eunVu4CvPeo3",
        "outputId": "d826e172-eb52-456a-cd41-8228c5b09912"
      },
      "source": [
        "final_df.columns"
      ],
      "execution_count": 188,
      "outputs": [
        {
          "output_type": "execute_result",
          "data": {
            "text/plain": [
              "Index(['id', 'amount_tsh', 'date_recorded', 'funder', 'gps_height',\n",
              "       'installer', 'longitude', 'latitude', 'wpt_name', 'num_private',\n",
              "       'basin', 'subvillage', 'region', 'region_code', 'district_code', 'lga',\n",
              "       'ward', 'population', 'public_meeting', 'recorded_by',\n",
              "       'scheme_management', 'scheme_name', 'permit', 'construction_year',\n",
              "       'extraction_type', 'extraction_type_group', 'extraction_type_class',\n",
              "       'management', 'management_group', 'payment', 'payment_type',\n",
              "       'water_quality', 'quality_group', 'quantity', 'quantity_group',\n",
              "       'source', 'source_type', 'source_class', 'waterpoint_type',\n",
              "       'waterpoint_type_group', 'from'],\n",
              "      dtype='object')"
            ]
          },
          "metadata": {},
          "execution_count": 188
        }
      ]
    },
    {
      "cell_type": "markdown",
      "metadata": {
        "id": "MuiGTw3O2GjU"
      },
      "source": [
        "**Id** was dropped. The duplicate columns **payment , quantity** were dropped. Simultaneously grouped category fields **scheme_management , source_class , source_type quality_group , extraction_type_class , extraction_type_group , waterpoint_type_group , management_group** were dropped. The field **recorded_by** containing only one value is dropped. And finally **num_private** which had no relavance to dataset was also removed"
      ]
    },
    {
      "cell_type": "code",
      "metadata": {
        "id": "GnZWj1xllkCX"
      },
      "source": [
        "'recorded_by', 'num_private', 'wpt_name', 'extraction_type_group', 'extraction_type', 'payment_type', 'water_quality', 'scheme_management',\n",
        "         'district_code', 'region','region_code', 'subvillage', 'ward', 'waterpoint_type_group', 'quantity_group', 'installer', 'scheme_name'\n",
        "\n",
        "'recorded_by','scheme_management','source_class','source_type','quality_group',\n",
        "                                        'extraction_type_class','extraction_type_group','waterpoint_type_group',\n",
        "                                        'management_group','payment','quantity','num_private'"
      ],
      "execution_count": null,
      "outputs": []
    },
    {
      "cell_type": "code",
      "metadata": {
        "id": "mClTmk9ogQF3"
      },
      "source": [
        "final_df = final_df.drop(columns=['recorded_by','scheme_management','source_class','source_type','quality_group','extraction_type_class','extraction_type_group',\n",
        "                                  'waterpoint_type_group', 'management_group','payment','quantity','num_private'])"
      ],
      "execution_count": 189,
      "outputs": []
    },
    {
      "cell_type": "code",
      "metadata": {
        "colab": {
          "base_uri": "https://localhost:8080/"
        },
        "id": "wmd8sd-14xVK",
        "outputId": "fe1bbb49-9201-45b2-fa8b-46cf6836f303"
      },
      "source": [
        "print(final_df.shape)"
      ],
      "execution_count": 190,
      "outputs": [
        {
          "output_type": "stream",
          "name": "stdout",
          "text": [
            "(74250, 29)\n"
          ]
        }
      ]
    },
    {
      "cell_type": "code",
      "metadata": {
        "id": "RVG-UXF64rNs"
      },
      "source": [
        "final_df.to_csv('/content/drive/MyDrive/Machine Learning/preprocessed_unencoded_data.csv')"
      ],
      "execution_count": 191,
      "outputs": []
    }
  ]
}