{
  "nbformat": 4,
  "nbformat_minor": 0,
  "metadata": {
    "colab": {
      "name": "Pump it Up - Modelling & Post processing.ipynb",
      "provenance": [],
      "mount_file_id": "1AjV4zLnBvZc2bEbBqpjUAch-P-kTSKF5",
      "authorship_tag": "ABX9TyMs3ET9THY4XxBLy7xSbjqy",
      "include_colab_link": true
    },
    "kernelspec": {
      "display_name": "Python 3",
      "name": "python3"
    },
    "language_info": {
      "name": "python"
    }
  },
  "cells": [
    {
      "cell_type": "markdown",
      "metadata": {
        "id": "view-in-github",
        "colab_type": "text"
      },
      "source": [
        "<a href=\"https://colab.research.google.com/github/KrishPraba/Pump-it-Up-Data-Mining-the-Water-Table/blob/main/Pump_it_Up_Modelling_%26_Post_processing.ipynb\" target=\"_parent\"><img src=\"https://colab.research.google.com/assets/colab-badge.svg\" alt=\"Open In Colab\"/></a>"
      ]
    },
    {
      "cell_type": "code",
      "metadata": {
        "colab": {
          "base_uri": "https://localhost:8080/"
        },
        "id": "GHocunRYUk_z",
        "outputId": "092935b4-37ba-42bb-9507-27a310f160f3"
      },
      "source": [
        "from google.colab import drive\n",
        "drive.mount('/content/drive')"
      ],
      "execution_count": 1,
      "outputs": [
        {
          "output_type": "stream",
          "name": "stdout",
          "text": [
            "Mounted at /content/drive\n"
          ]
        }
      ]
    },
    {
      "cell_type": "markdown",
      "metadata": {
        "id": "YTS0irxA5hur"
      },
      "source": [
        "#**Installing Necessary Libraries**"
      ]
    },
    {
      "cell_type": "code",
      "metadata": {
        "colab": {
          "base_uri": "https://localhost:8080/"
        },
        "id": "M8vmNx_Ld3M9",
        "outputId": "9a529fb8-63bc-42e0-acf1-892b6e17cda1"
      },
      "source": [
        "!pip install catboost\n",
        "!pip install ipywidgets\n",
        "!pip install shap\n",
        "!jupyter nbextension enable --py widgetsnbextension"
      ],
      "execution_count": 3,
      "outputs": [
        {
          "output_type": "stream",
          "name": "stdout",
          "text": [
            "Collecting catboost\n",
            "  Downloading catboost-0.26.1-cp37-none-manylinux1_x86_64.whl (67.4 MB)\n",
            "\u001b[K     |████████████████████████████████| 67.4 MB 25 kB/s \n",
            "\u001b[?25hRequirement already satisfied: matplotlib in /usr/local/lib/python3.7/dist-packages (from catboost) (3.2.2)\n",
            "Requirement already satisfied: pandas>=0.24.0 in /usr/local/lib/python3.7/dist-packages (from catboost) (1.1.5)\n",
            "Requirement already satisfied: scipy in /usr/local/lib/python3.7/dist-packages (from catboost) (1.4.1)\n",
            "Requirement already satisfied: plotly in /usr/local/lib/python3.7/dist-packages (from catboost) (4.4.1)\n",
            "Requirement already satisfied: six in /usr/local/lib/python3.7/dist-packages (from catboost) (1.15.0)\n",
            "Requirement already satisfied: numpy>=1.16.0 in /usr/local/lib/python3.7/dist-packages (from catboost) (1.19.5)\n",
            "Requirement already satisfied: graphviz in /usr/local/lib/python3.7/dist-packages (from catboost) (0.10.1)\n",
            "Requirement already satisfied: pytz>=2017.2 in /usr/local/lib/python3.7/dist-packages (from pandas>=0.24.0->catboost) (2018.9)\n",
            "Requirement already satisfied: python-dateutil>=2.7.3 in /usr/local/lib/python3.7/dist-packages (from pandas>=0.24.0->catboost) (2.8.2)\n",
            "Requirement already satisfied: cycler>=0.10 in /usr/local/lib/python3.7/dist-packages (from matplotlib->catboost) (0.10.0)\n",
            "Requirement already satisfied: pyparsing!=2.0.4,!=2.1.2,!=2.1.6,>=2.0.1 in /usr/local/lib/python3.7/dist-packages (from matplotlib->catboost) (2.4.7)\n",
            "Requirement already satisfied: kiwisolver>=1.0.1 in /usr/local/lib/python3.7/dist-packages (from matplotlib->catboost) (1.3.1)\n",
            "Requirement already satisfied: retrying>=1.3.3 in /usr/local/lib/python3.7/dist-packages (from plotly->catboost) (1.3.3)\n",
            "Installing collected packages: catboost\n",
            "Successfully installed catboost-0.26.1\n",
            "Requirement already satisfied: ipywidgets in /usr/local/lib/python3.7/dist-packages (7.6.3)\n",
            "Requirement already satisfied: traitlets>=4.3.1 in /usr/local/lib/python3.7/dist-packages (from ipywidgets) (5.0.5)\n",
            "Requirement already satisfied: ipython>=4.0.0 in /usr/local/lib/python3.7/dist-packages (from ipywidgets) (5.5.0)\n",
            "Requirement already satisfied: ipykernel>=4.5.1 in /usr/local/lib/python3.7/dist-packages (from ipywidgets) (4.10.1)\n",
            "Requirement already satisfied: nbformat>=4.2.0 in /usr/local/lib/python3.7/dist-packages (from ipywidgets) (5.1.3)\n",
            "Requirement already satisfied: jupyterlab-widgets>=1.0.0 in /usr/local/lib/python3.7/dist-packages (from ipywidgets) (1.0.0)\n",
            "Requirement already satisfied: widgetsnbextension~=3.5.0 in /usr/local/lib/python3.7/dist-packages (from ipywidgets) (3.5.1)\n",
            "Requirement already satisfied: jupyter-client in /usr/local/lib/python3.7/dist-packages (from ipykernel>=4.5.1->ipywidgets) (5.3.5)\n",
            "Requirement already satisfied: tornado>=4.0 in /usr/local/lib/python3.7/dist-packages (from ipykernel>=4.5.1->ipywidgets) (5.1.1)\n",
            "Requirement already satisfied: decorator in /usr/local/lib/python3.7/dist-packages (from ipython>=4.0.0->ipywidgets) (4.4.2)\n",
            "Requirement already satisfied: simplegeneric>0.8 in /usr/local/lib/python3.7/dist-packages (from ipython>=4.0.0->ipywidgets) (0.8.1)\n",
            "Requirement already satisfied: pexpect in /usr/local/lib/python3.7/dist-packages (from ipython>=4.0.0->ipywidgets) (4.8.0)\n",
            "Requirement already satisfied: setuptools>=18.5 in /usr/local/lib/python3.7/dist-packages (from ipython>=4.0.0->ipywidgets) (57.4.0)\n",
            "Requirement already satisfied: pygments in /usr/local/lib/python3.7/dist-packages (from ipython>=4.0.0->ipywidgets) (2.6.1)\n",
            "Requirement already satisfied: pickleshare in /usr/local/lib/python3.7/dist-packages (from ipython>=4.0.0->ipywidgets) (0.7.5)\n",
            "Requirement already satisfied: prompt-toolkit<2.0.0,>=1.0.4 in /usr/local/lib/python3.7/dist-packages (from ipython>=4.0.0->ipywidgets) (1.0.18)\n",
            "Requirement already satisfied: jsonschema!=2.5.0,>=2.4 in /usr/local/lib/python3.7/dist-packages (from nbformat>=4.2.0->ipywidgets) (2.6.0)\n",
            "Requirement already satisfied: jupyter-core in /usr/local/lib/python3.7/dist-packages (from nbformat>=4.2.0->ipywidgets) (4.7.1)\n",
            "Requirement already satisfied: ipython-genutils in /usr/local/lib/python3.7/dist-packages (from nbformat>=4.2.0->ipywidgets) (0.2.0)\n",
            "Requirement already satisfied: six>=1.9.0 in /usr/local/lib/python3.7/dist-packages (from prompt-toolkit<2.0.0,>=1.0.4->ipython>=4.0.0->ipywidgets) (1.15.0)\n",
            "Requirement already satisfied: wcwidth in /usr/local/lib/python3.7/dist-packages (from prompt-toolkit<2.0.0,>=1.0.4->ipython>=4.0.0->ipywidgets) (0.2.5)\n",
            "Requirement already satisfied: notebook>=4.4.1 in /usr/local/lib/python3.7/dist-packages (from widgetsnbextension~=3.5.0->ipywidgets) (5.3.1)\n",
            "Requirement already satisfied: jinja2 in /usr/local/lib/python3.7/dist-packages (from notebook>=4.4.1->widgetsnbextension~=3.5.0->ipywidgets) (2.11.3)\n",
            "Requirement already satisfied: terminado>=0.8.1 in /usr/local/lib/python3.7/dist-packages (from notebook>=4.4.1->widgetsnbextension~=3.5.0->ipywidgets) (0.11.0)\n",
            "Requirement already satisfied: Send2Trash in /usr/local/lib/python3.7/dist-packages (from notebook>=4.4.1->widgetsnbextension~=3.5.0->ipywidgets) (1.8.0)\n",
            "Requirement already satisfied: nbconvert in /usr/local/lib/python3.7/dist-packages (from notebook>=4.4.1->widgetsnbextension~=3.5.0->ipywidgets) (5.6.1)\n",
            "Requirement already satisfied: python-dateutil>=2.1 in /usr/local/lib/python3.7/dist-packages (from jupyter-client->ipykernel>=4.5.1->ipywidgets) (2.8.2)\n",
            "Requirement already satisfied: pyzmq>=13 in /usr/local/lib/python3.7/dist-packages (from jupyter-client->ipykernel>=4.5.1->ipywidgets) (22.2.1)\n",
            "Requirement already satisfied: ptyprocess in /usr/local/lib/python3.7/dist-packages (from terminado>=0.8.1->notebook>=4.4.1->widgetsnbextension~=3.5.0->ipywidgets) (0.7.0)\n",
            "Requirement already satisfied: MarkupSafe>=0.23 in /usr/local/lib/python3.7/dist-packages (from jinja2->notebook>=4.4.1->widgetsnbextension~=3.5.0->ipywidgets) (2.0.1)\n",
            "Requirement already satisfied: bleach in /usr/local/lib/python3.7/dist-packages (from nbconvert->notebook>=4.4.1->widgetsnbextension~=3.5.0->ipywidgets) (4.0.0)\n",
            "Requirement already satisfied: pandocfilters>=1.4.1 in /usr/local/lib/python3.7/dist-packages (from nbconvert->notebook>=4.4.1->widgetsnbextension~=3.5.0->ipywidgets) (1.4.3)\n",
            "Requirement already satisfied: mistune<2,>=0.8.1 in /usr/local/lib/python3.7/dist-packages (from nbconvert->notebook>=4.4.1->widgetsnbextension~=3.5.0->ipywidgets) (0.8.4)\n",
            "Requirement already satisfied: entrypoints>=0.2.2 in /usr/local/lib/python3.7/dist-packages (from nbconvert->notebook>=4.4.1->widgetsnbextension~=3.5.0->ipywidgets) (0.3)\n",
            "Requirement already satisfied: testpath in /usr/local/lib/python3.7/dist-packages (from nbconvert->notebook>=4.4.1->widgetsnbextension~=3.5.0->ipywidgets) (0.5.0)\n",
            "Requirement already satisfied: defusedxml in /usr/local/lib/python3.7/dist-packages (from nbconvert->notebook>=4.4.1->widgetsnbextension~=3.5.0->ipywidgets) (0.7.1)\n",
            "Requirement already satisfied: webencodings in /usr/local/lib/python3.7/dist-packages (from bleach->nbconvert->notebook>=4.4.1->widgetsnbextension~=3.5.0->ipywidgets) (0.5.1)\n",
            "Requirement already satisfied: packaging in /usr/local/lib/python3.7/dist-packages (from bleach->nbconvert->notebook>=4.4.1->widgetsnbextension~=3.5.0->ipywidgets) (21.0)\n",
            "Requirement already satisfied: pyparsing>=2.0.2 in /usr/local/lib/python3.7/dist-packages (from packaging->bleach->nbconvert->notebook>=4.4.1->widgetsnbextension~=3.5.0->ipywidgets) (2.4.7)\n",
            "Collecting shap\n",
            "  Downloading shap-0.39.0.tar.gz (356 kB)\n",
            "\u001b[K     |████████████████████████████████| 356 kB 4.1 MB/s \n",
            "\u001b[?25hRequirement already satisfied: numpy in /usr/local/lib/python3.7/dist-packages (from shap) (1.19.5)\n",
            "Requirement already satisfied: scipy in /usr/local/lib/python3.7/dist-packages (from shap) (1.4.1)\n",
            "Requirement already satisfied: scikit-learn in /usr/local/lib/python3.7/dist-packages (from shap) (0.22.2.post1)\n",
            "Requirement already satisfied: pandas in /usr/local/lib/python3.7/dist-packages (from shap) (1.1.5)\n",
            "Requirement already satisfied: tqdm>4.25.0 in /usr/local/lib/python3.7/dist-packages (from shap) (4.62.0)\n",
            "Collecting slicer==0.0.7\n",
            "  Downloading slicer-0.0.7-py3-none-any.whl (14 kB)\n",
            "Requirement already satisfied: numba in /usr/local/lib/python3.7/dist-packages (from shap) (0.51.2)\n",
            "Requirement already satisfied: cloudpickle in /usr/local/lib/python3.7/dist-packages (from shap) (1.3.0)\n",
            "Requirement already satisfied: setuptools in /usr/local/lib/python3.7/dist-packages (from numba->shap) (57.4.0)\n",
            "Requirement already satisfied: llvmlite<0.35,>=0.34.0.dev0 in /usr/local/lib/python3.7/dist-packages (from numba->shap) (0.34.0)\n",
            "Requirement already satisfied: pytz>=2017.2 in /usr/local/lib/python3.7/dist-packages (from pandas->shap) (2018.9)\n",
            "Requirement already satisfied: python-dateutil>=2.7.3 in /usr/local/lib/python3.7/dist-packages (from pandas->shap) (2.8.2)\n",
            "Requirement already satisfied: six>=1.5 in /usr/local/lib/python3.7/dist-packages (from python-dateutil>=2.7.3->pandas->shap) (1.15.0)\n",
            "Requirement already satisfied: joblib>=0.11 in /usr/local/lib/python3.7/dist-packages (from scikit-learn->shap) (1.0.1)\n",
            "Building wheels for collected packages: shap\n",
            "  Building wheel for shap (setup.py) ... \u001b[?25l\u001b[?25hdone\n",
            "  Created wheel for shap: filename=shap-0.39.0-cp37-cp37m-linux_x86_64.whl size=491644 sha256=8083c30c86900181c1d4402d0061ed1199df918c61447a6b19e5c4009451edb2\n",
            "  Stored in directory: /root/.cache/pip/wheels/ca/25/8f/6ae5df62c32651cd719e972e738a8aaa4a87414c4d2b14c9c0\n",
            "Successfully built shap\n",
            "Installing collected packages: slicer, shap\n",
            "Successfully installed shap-0.39.0 slicer-0.0.7\n",
            "Enabling notebook extension jupyter-js-widgets/extension...\n",
            "      - Validating: \u001b[32mOK\u001b[0m\n"
          ]
        }
      ]
    },
    {
      "cell_type": "code",
      "metadata": {
        "id": "oCRFXbhkhOwY"
      },
      "source": [
        "import numpy as np\n",
        "import pandas as pd\n",
        "\n",
        "from sklearn.model_selection import train_test_split\n",
        "from sklearn import metrics\n",
        "from sklearn.metrics import accuracy_score, recall_score, precision_score, f1_score, precision_recall_fscore_support, confusion_matrix\n",
        "import re\n",
        "import matplotlib.pyplot as plt\n",
        "import seaborn as sns\n",
        "\n",
        "from sklearn.linear_model import LogisticRegression\n",
        "from sklearn.tree import DecisionTreeClassifier\n",
        "from sklearn.ensemble import RandomForestClassifier\n",
        "from sklearn.ensemble import GradientBoostingClassifier\n",
        "from sklearn.ensemble import AdaBoostClassifier\n",
        "from sklearn.ensemble import ExtraTreesClassifier\n",
        "from sklearn.neighbors import KNeighborsClassifier\n",
        "from catboost import CatBoostClassifier, Pool, metrics, cv\n",
        "from sklearn.svm import SVC\n",
        "from sklearn.naive_bayes import GaussianNB\n",
        "from sklearn.model_selection import KFold\n",
        "from sklearn.metrics import accuracy_score\n",
        "import xgboost as xgb\n",
        "from sklearn.multioutput import MultiOutputClassifier\n",
        "\n",
        "from sklearn.feature_selection import RFECV\n",
        "from sklearn.model_selection import StratifiedKFold\n",
        "from sklearn.model_selection import train_test_split"
      ],
      "execution_count": 4,
      "outputs": []
    },
    {
      "cell_type": "markdown",
      "metadata": {
        "id": "OSYRxsnSfJEU"
      },
      "source": [
        "#**Loading Data**"
      ]
    },
    {
      "cell_type": "code",
      "metadata": {
        "id": "BJY2ALSEeW1O"
      },
      "source": [
        "import pandas as pd\n",
        "\n",
        "train_test_unencoded = pd.read_csv( \"/content/drive/MyDrive/Machine Learning/preprocessed_unencoded_data.csv\" )   # Unencoded features dataset used for CATboost\n",
        "\n",
        "train_test_encoded = pd.read_csv( \"/content/drive/MyDrive/Machine Learning/preprocessed_encoded_data.csv\" )       # Encoded features dataset used for other classifiers\n",
        "\n",
        "labels_df = pd.read_csv( \"/content/drive/MyDrive/Machine Learning/Train_set_labels.csv\" )                         # Labels set for the training set"
      ],
      "execution_count": 10,
      "outputs": []
    },
    {
      "cell_type": "code",
      "metadata": {
        "colab": {
          "base_uri": "https://localhost:8080/"
        },
        "id": "1LvkEARyAaTV",
        "outputId": "a98a69f3-570a-434e-c2c8-325231f2cba4"
      },
      "source": [
        "# Seperating train and test set of both encoded and unencoded dataset\n",
        "\n",
        "test_df_unencoded = train_test_unencoded.loc[train_test_unencoded['from'] == 'test']\n",
        "test_df_unencoded.drop(columns=['from','Unnamed: 0'],inplace=True)\n",
        "\n",
        "train_values_df_unencoded = train_test_unencoded.loc[train_test_unencoded['from'] == 'train']\n",
        "train_values_df_unencoded.drop(columns=['from','Unnamed: 0'],inplace=True)\n",
        "\n",
        "test_df_encoded = train_test_encoded.loc[train_test_encoded['from'] == 'test']\n",
        "test_df_encoded.drop(columns=['from','Unnamed: 0'],inplace=True)\n",
        "\n",
        "train_values_df_encoded = train_test_encoded.loc[train_test_encoded['from'] == 'train']\n",
        "train_values_df_encoded.drop(columns=['from','Unnamed: 0'],inplace=True)"
      ],
      "execution_count": 13,
      "outputs": [
        {
          "output_type": "stream",
          "name": "stderr",
          "text": [
            "/usr/local/lib/python3.7/dist-packages/pandas/core/frame.py:4174: SettingWithCopyWarning: \n",
            "A value is trying to be set on a copy of a slice from a DataFrame\n",
            "\n",
            "See the caveats in the documentation: https://pandas.pydata.org/pandas-docs/stable/user_guide/indexing.html#returning-a-view-versus-a-copy\n",
            "  errors=errors,\n"
          ]
        }
      ]
    },
    {
      "cell_type": "code",
      "metadata": {
        "colab": {
          "base_uri": "https://localhost:8080/"
        },
        "id": "IKc9zkR2en4c",
        "outputId": "c53677f9-e0a0-4f9e-ec15-dd7f5e8aa09c"
      },
      "source": [
        "print(train_values_df_encoded.shape)\n",
        "print(test_df_encoded.shape)\n",
        "print(labels_df.shape)\n",
        "print(train_values_df_unencoded.shape)\n",
        "print(test_df_unencoded.shape)"
      ],
      "execution_count": 14,
      "outputs": [
        {
          "output_type": "stream",
          "name": "stdout",
          "text": [
            "(59400, 28)\n",
            "(14850, 28)\n",
            "(59400, 2)\n",
            "(59400, 28)\n",
            "(14850, 28)\n"
          ]
        }
      ]
    },
    {
      "cell_type": "code",
      "metadata": {
        "id": "irxQw8D8sssK"
      },
      "source": [
        "train_values_df_encoded.info()"
      ],
      "execution_count": null,
      "outputs": []
    },
    {
      "cell_type": "code",
      "metadata": {
        "id": "dKaWLGIQK0NH"
      },
      "source": [
        "labels_df = labels_df.drop(columns=['id'])"
      ],
      "execution_count": 15,
      "outputs": []
    },
    {
      "cell_type": "code",
      "metadata": {
        "id": "A-1Iz0yS-9QC"
      },
      "source": [
        "X_unencoded =train_values_df_unencoded\n",
        "Y =labels_df\n",
        "X_encoded =train_values_df_encoded\n"
      ],
      "execution_count": 17,
      "outputs": []
    },
    {
      "cell_type": "markdown",
      "metadata": {
        "id": "h8qCKDXL9IpF"
      },
      "source": [
        "#**Post-processing**"
      ]
    },
    {
      "cell_type": "markdown",
      "metadata": {
        "id": "zy5_HR4I9vey"
      },
      "source": [
        "**Feature Importance**\n",
        "\n",
        "---\n",
        "\n"
      ]
    },
    {
      "cell_type": "markdown",
      "metadata": {
        "id": "5NnsXeVO-cqv"
      },
      "source": [
        "**Random Forest**"
      ]
    },
    {
      "cell_type": "code",
      "metadata": {
        "id": "3kBCtspO9QD8"
      },
      "source": [
        "clf=RandomForestClassifier(n_estimators=100,max_features='auto',random_state=0,max_depth=14,class_weight='balanced')\n",
        "rfecv = RFECV(estimator=clf, step=1, cv=StratifiedKFold(),scoring='accuracy')\n",
        "rfecv.fit(X_encoded, Y)\n",
        "\n",
        "print(\"Optimal number of features : %d\" % rfecv.n_features_)\n",
        "\n",
        "plt.figure(figsize=(5,5))\n",
        "plt.xlabel(\"Number of features selected\")\n",
        "plt.ylabel(\"Cross validation score (nb of correct classifications)\")\n",
        "plt.plot(range(1, len(rfecv.grid_scores_) + 1), rfecv.grid_scores_)\n",
        "plt.show()"
      ],
      "execution_count": null,
      "outputs": []
    },
    {
      "cell_type": "code",
      "metadata": {
        "colab": {
          "base_uri": "https://localhost:8080/"
        },
        "id": "vvZmh4AFH9lB",
        "outputId": "a5403de7-caa5-4110-a5f1-9995dd915df8"
      },
      "source": [
        "print('\\033[1m' + \"Feature grid scores\" + '\\033[0m')\n",
        "print(rfecv.grid_scores_)\n",
        "\n",
        "print('\\033[1m' + \"Feature support\" + '\\033[0m')\n",
        "print(rfecv.support_)\n",
        "\n",
        "print('\\033[1m' + \"Feature rank\" + '\\033[0m')\n",
        "print(rfecv.ranking_)"
      ],
      "execution_count": null,
      "outputs": [
        {
          "output_type": "execute_result",
          "data": {
            "text/plain": [
              "array([0.56926599, 0.61791375, 0.64288162, 0.67131855, 0.68062233,\n",
              "       0.69063577, 0.69878305, 0.70530112, 0.70532739])"
            ]
          },
          "metadata": {},
          "execution_count": 39
        }
      ]
    },
    {
      "cell_type": "code",
      "metadata": {
        "id": "eDsS1K3cH9lB"
      },
      "source": [
        "rfecv_features = list(X.columns.values[rfecv.support_])\n",
        "print(rfecv_features)"
      ],
      "execution_count": null,
      "outputs": []
    },
    {
      "cell_type": "markdown",
      "metadata": {
        "id": "ECC1s6vN_qRI"
      },
      "source": [
        "**SHAP**"
      ]
    },
    {
      "cell_type": "code",
      "metadata": {
        "id": "Ag6lr9sN_ton"
      },
      "source": [
        "output = shap.TreeExplainer(rfecv)\n",
        "shap_values = output.shap_values(X_valid)\n",
        "shap.summary_plot(shap_values, X_valid)"
      ],
      "execution_count": null,
      "outputs": []
    },
    {
      "cell_type": "code",
      "metadata": {
        "id": "MSeKtU0eG4Lb"
      },
      "source": [
        "shap.summary_plot(shap_values[0], X_valid)      #Functional"
      ],
      "execution_count": null,
      "outputs": []
    },
    {
      "cell_type": "code",
      "metadata": {
        "id": "no-HL4FBG5EH"
      },
      "source": [
        "shap.summary_plot(shap_values[1], X_valid)      #Functional but needs repair"
      ],
      "execution_count": null,
      "outputs": []
    },
    {
      "cell_type": "code",
      "metadata": {
        "id": "49r1e-xwG5ut"
      },
      "source": [
        "shap.summary_plot(shap_values[2], X_valid)      #Non Functional"
      ],
      "execution_count": null,
      "outputs": []
    },
    {
      "cell_type": "markdown",
      "metadata": {
        "id": "6jmsVJpshqjb"
      },
      "source": [
        "#**Building CAT Boost Model**"
      ]
    },
    {
      "cell_type": "code",
      "metadata": {
        "id": "ysILz4kffGp8"
      },
      "source": [
        "categorical_features_indices = np.where(X_unencoded.dtypes != np.float)[0]"
      ],
      "execution_count": 18,
      "outputs": []
    },
    {
      "cell_type": "code",
      "metadata": {
        "colab": {
          "base_uri": "https://localhost:8080/"
        },
        "id": "6kOMTIO2_ccT",
        "outputId": "b5776847-630b-469f-85ba-e9df41a31bff"
      },
      "source": [
        "categorical_features_indices"
      ],
      "execution_count": 19,
      "outputs": [
        {
          "output_type": "execute_result",
          "data": {
            "text/plain": [
              "array([ 0,  2,  3,  4,  5,  8,  9, 10, 11, 12, 13, 14, 15, 17, 18, 19, 21,\n",
              "       22, 23, 24, 25, 26, 27])"
            ]
          },
          "metadata": {},
          "execution_count": 19
        }
      ]
    },
    {
      "cell_type": "code",
      "metadata": {
        "id": "fmgpjSYMhtI9"
      },
      "source": [
        "X_train, X_validation, y_train, y_validation = train_test_split(X_unencoded, Y, train_size=0.75, random_state=42)"
      ],
      "execution_count": null,
      "outputs": []
    },
    {
      "cell_type": "code",
      "metadata": {
        "id": "FZ6OXzy4h-ux"
      },
      "source": [
        "model = CatBoostClassifier(\n",
        "    loss_function = 'MultiClass'\n",
        ")"
      ],
      "execution_count": 27,
      "outputs": []
    },
    {
      "cell_type": "code",
      "metadata": {
        "id": "pVEvlyGViCXU"
      },
      "source": [
        "model.fit(\n",
        "    X_train, y_train,\n",
        "    cat_features=categorical_features_indices,\n",
        "    verbose = False\n",
        ");"
      ],
      "execution_count": null,
      "outputs": []
    },
    {
      "cell_type": "code",
      "metadata": {
        "colab": {
          "base_uri": "https://localhost:8080/"
        },
        "id": "4Lhev6Vd8DKO",
        "outputId": "55423725-9a1d-4765-e67c-5ec19bfc3a91"
      },
      "source": [
        "print('Simple model validation accuracy: {:.4}'.format(\n",
        "    accuracy_score(y_validation, model.predict(X_validation))\n",
        "))"
      ],
      "execution_count": null,
      "outputs": [
        {
          "name": "stdout",
          "output_type": "stream",
          "text": [
            "Simple model validation accuracy: 0.8122\n"
          ]
        }
      ]
    },
    {
      "cell_type": "code",
      "metadata": {
        "colab": {
          "base_uri": "https://localhost:8080/"
        },
        "id": "myjnjmnbC0ak",
        "outputId": "3a531dc5-2ed9-48f6-e05b-d069096373fa"
      },
      "source": [
        "model.fit(\n",
        "    X_unencoded, Y,\n",
        "    cat_features=categorical_features_indices,\n",
        "    # verbose = False\n",
        ");"
      ],
      "execution_count": 29,
      "outputs": [
        {
          "output_type": "stream",
          "name": "stdout",
          "text": [
            "Learning rate set to 0.097451\n",
            "0:\tlearn: 1.0203849\ttotal: 1.22s\tremaining: 20m 14s\n",
            "1:\tlearn: 0.9570950\ttotal: 2.38s\tremaining: 19m 49s\n",
            "2:\tlearn: 0.9058445\ttotal: 3.29s\tremaining: 18m 14s\n",
            "3:\tlearn: 0.8633110\ttotal: 4.39s\tremaining: 18m 14s\n",
            "4:\tlearn: 0.8277050\ttotal: 5.33s\tremaining: 17m 41s\n",
            "5:\tlearn: 0.7960695\ttotal: 6.29s\tremaining: 17m 21s\n",
            "6:\tlearn: 0.7702599\ttotal: 7.28s\tremaining: 17m 13s\n",
            "7:\tlearn: 0.7478506\ttotal: 8.23s\tremaining: 17m 1s\n",
            "8:\tlearn: 0.7284047\ttotal: 9.13s\tremaining: 16m 45s\n",
            "9:\tlearn: 0.7108674\ttotal: 10.2s\tremaining: 16m 47s\n",
            "10:\tlearn: 0.6945305\ttotal: 11.3s\tremaining: 16m 53s\n",
            "11:\tlearn: 0.6811261\ttotal: 12.2s\tremaining: 16m 47s\n",
            "12:\tlearn: 0.6689795\ttotal: 13.2s\tremaining: 16m 44s\n",
            "13:\tlearn: 0.6578610\ttotal: 14.3s\tremaining: 16m 47s\n",
            "14:\tlearn: 0.6481202\ttotal: 15.4s\tremaining: 16m 50s\n",
            "15:\tlearn: 0.6389919\ttotal: 16.3s\tremaining: 16m 43s\n",
            "16:\tlearn: 0.6300570\ttotal: 17.3s\tremaining: 16m 39s\n",
            "17:\tlearn: 0.6219806\ttotal: 18.2s\tremaining: 16m 31s\n",
            "18:\tlearn: 0.6150145\ttotal: 19.1s\tremaining: 16m 25s\n",
            "19:\tlearn: 0.6083996\ttotal: 20s\tremaining: 16m 20s\n",
            "20:\tlearn: 0.6032186\ttotal: 21s\tremaining: 16m 18s\n",
            "21:\tlearn: 0.5977280\ttotal: 21.9s\tremaining: 16m 13s\n",
            "22:\tlearn: 0.5926272\ttotal: 22.9s\tremaining: 16m 13s\n",
            "23:\tlearn: 0.5887826\ttotal: 23.9s\tremaining: 16m 10s\n",
            "24:\tlearn: 0.5849609\ttotal: 24.9s\tremaining: 16m 11s\n",
            "25:\tlearn: 0.5814920\ttotal: 26s\tremaining: 16m 14s\n",
            "26:\tlearn: 0.5782646\ttotal: 26.9s\tremaining: 16m 9s\n",
            "27:\tlearn: 0.5751558\ttotal: 28s\tremaining: 16m 12s\n",
            "28:\tlearn: 0.5730126\ttotal: 28.9s\tremaining: 16m 7s\n",
            "29:\tlearn: 0.5706809\ttotal: 29.8s\tremaining: 16m 3s\n",
            "30:\tlearn: 0.5682452\ttotal: 30.9s\tremaining: 16m 6s\n",
            "31:\tlearn: 0.5660429\ttotal: 32s\tremaining: 16m 9s\n",
            "32:\tlearn: 0.5640962\ttotal: 33s\tremaining: 16m 7s\n",
            "33:\tlearn: 0.5620684\ttotal: 34.1s\tremaining: 16m 8s\n",
            "34:\tlearn: 0.5604794\ttotal: 35.2s\tremaining: 16m 11s\n",
            "35:\tlearn: 0.5587042\ttotal: 36.2s\tremaining: 16m 10s\n",
            "36:\tlearn: 0.5567255\ttotal: 37.3s\tremaining: 16m 10s\n",
            "37:\tlearn: 0.5552290\ttotal: 38.4s\tremaining: 16m 11s\n",
            "38:\tlearn: 0.5543375\ttotal: 39.5s\tremaining: 16m 12s\n",
            "39:\tlearn: 0.5522250\ttotal: 40.4s\tremaining: 16m 8s\n",
            "40:\tlearn: 0.5509787\ttotal: 41.4s\tremaining: 16m 9s\n",
            "41:\tlearn: 0.5497364\ttotal: 42.4s\tremaining: 16m 6s\n",
            "42:\tlearn: 0.5487117\ttotal: 43.5s\tremaining: 16m 7s\n",
            "43:\tlearn: 0.5476682\ttotal: 44.6s\tremaining: 16m 9s\n",
            "44:\tlearn: 0.5465615\ttotal: 45.6s\tremaining: 16m 7s\n",
            "45:\tlearn: 0.5454732\ttotal: 46.5s\tremaining: 16m 4s\n",
            "46:\tlearn: 0.5438993\ttotal: 47.6s\tremaining: 16m 4s\n",
            "47:\tlearn: 0.5424695\ttotal: 48.5s\tremaining: 16m 2s\n",
            "48:\tlearn: 0.5418057\ttotal: 49.7s\tremaining: 16m 4s\n",
            "49:\tlearn: 0.5410051\ttotal: 50.8s\tremaining: 16m 4s\n",
            "50:\tlearn: 0.5402122\ttotal: 51.9s\tremaining: 16m 5s\n",
            "51:\tlearn: 0.5392384\ttotal: 52.9s\tremaining: 16m 4s\n",
            "52:\tlearn: 0.5384587\ttotal: 54s\tremaining: 16m 4s\n",
            "53:\tlearn: 0.5374021\ttotal: 55s\tremaining: 16m 2s\n",
            "54:\tlearn: 0.5366811\ttotal: 56.1s\tremaining: 16m 3s\n",
            "55:\tlearn: 0.5357633\ttotal: 57.1s\tremaining: 16m 2s\n",
            "56:\tlearn: 0.5349981\ttotal: 58.1s\tremaining: 16m 1s\n",
            "57:\tlearn: 0.5340785\ttotal: 59.1s\tremaining: 15m 59s\n",
            "58:\tlearn: 0.5336732\ttotal: 1m\tremaining: 15m 59s\n",
            "59:\tlearn: 0.5328303\ttotal: 1m 1s\tremaining: 15m 59s\n",
            "60:\tlearn: 0.5323610\ttotal: 1m 2s\tremaining: 15m 54s\n",
            "61:\tlearn: 0.5316329\ttotal: 1m 3s\tremaining: 15m 56s\n",
            "62:\tlearn: 0.5310180\ttotal: 1m 4s\tremaining: 15m 56s\n",
            "63:\tlearn: 0.5304265\ttotal: 1m 5s\tremaining: 15m 55s\n",
            "64:\tlearn: 0.5298940\ttotal: 1m 6s\tremaining: 15m 54s\n",
            "65:\tlearn: 0.5293646\ttotal: 1m 7s\tremaining: 15m 53s\n",
            "66:\tlearn: 0.5288300\ttotal: 1m 8s\tremaining: 15m 51s\n",
            "67:\tlearn: 0.5281612\ttotal: 1m 9s\tremaining: 15m 50s\n",
            "68:\tlearn: 0.5275204\ttotal: 1m 10s\tremaining: 15m 50s\n",
            "69:\tlearn: 0.5267621\ttotal: 1m 11s\tremaining: 15m 50s\n",
            "70:\tlearn: 0.5263123\ttotal: 1m 12s\tremaining: 15m 50s\n",
            "71:\tlearn: 0.5255081\ttotal: 1m 13s\tremaining: 15m 48s\n",
            "72:\tlearn: 0.5247426\ttotal: 1m 14s\tremaining: 15m 48s\n",
            "73:\tlearn: 0.5244088\ttotal: 1m 15s\tremaining: 15m 47s\n",
            "74:\tlearn: 0.5237625\ttotal: 1m 16s\tremaining: 15m 46s\n",
            "75:\tlearn: 0.5228686\ttotal: 1m 17s\tremaining: 15m 45s\n",
            "76:\tlearn: 0.5223625\ttotal: 1m 18s\tremaining: 15m 45s\n",
            "77:\tlearn: 0.5215482\ttotal: 1m 19s\tremaining: 15m 44s\n",
            "78:\tlearn: 0.5208977\ttotal: 1m 20s\tremaining: 15m 42s\n",
            "79:\tlearn: 0.5199524\ttotal: 1m 21s\tremaining: 15m 39s\n",
            "80:\tlearn: 0.5196135\ttotal: 1m 22s\tremaining: 15m 37s\n",
            "81:\tlearn: 0.5191918\ttotal: 1m 23s\tremaining: 15m 37s\n",
            "82:\tlearn: 0.5184940\ttotal: 1m 24s\tremaining: 15m 37s\n",
            "83:\tlearn: 0.5179924\ttotal: 1m 25s\tremaining: 15m 35s\n",
            "84:\tlearn: 0.5176609\ttotal: 1m 26s\tremaining: 15m 35s\n",
            "85:\tlearn: 0.5171655\ttotal: 1m 27s\tremaining: 15m 34s\n",
            "86:\tlearn: 0.5166187\ttotal: 1m 29s\tremaining: 15m 34s\n",
            "87:\tlearn: 0.5162102\ttotal: 1m 29s\tremaining: 15m 32s\n",
            "88:\tlearn: 0.5156721\ttotal: 1m 30s\tremaining: 15m 30s\n",
            "89:\tlearn: 0.5152933\ttotal: 1m 31s\tremaining: 15m 29s\n",
            "90:\tlearn: 0.5151402\ttotal: 1m 32s\tremaining: 15m 28s\n",
            "91:\tlearn: 0.5149820\ttotal: 1m 33s\tremaining: 15m 27s\n",
            "92:\tlearn: 0.5147871\ttotal: 1m 34s\tremaining: 15m 26s\n",
            "93:\tlearn: 0.5143665\ttotal: 1m 36s\tremaining: 15m 25s\n",
            "94:\tlearn: 0.5141534\ttotal: 1m 37s\tremaining: 15m 24s\n",
            "95:\tlearn: 0.5138705\ttotal: 1m 38s\tremaining: 15m 24s\n",
            "96:\tlearn: 0.5134737\ttotal: 1m 39s\tremaining: 15m 23s\n",
            "97:\tlearn: 0.5128937\ttotal: 1m 40s\tremaining: 15m 23s\n",
            "98:\tlearn: 0.5124546\ttotal: 1m 41s\tremaining: 15m 22s\n",
            "99:\tlearn: 0.5121084\ttotal: 1m 42s\tremaining: 15m 22s\n",
            "100:\tlearn: 0.5116607\ttotal: 1m 43s\tremaining: 15m 21s\n",
            "101:\tlearn: 0.5113662\ttotal: 1m 44s\tremaining: 15m 20s\n",
            "102:\tlearn: 0.5111314\ttotal: 1m 45s\tremaining: 15m 18s\n",
            "103:\tlearn: 0.5108011\ttotal: 1m 46s\tremaining: 15m 18s\n",
            "104:\tlearn: 0.5103653\ttotal: 1m 47s\tremaining: 15m 16s\n",
            "105:\tlearn: 0.5100810\ttotal: 1m 48s\tremaining: 15m 15s\n",
            "106:\tlearn: 0.5097781\ttotal: 1m 49s\tremaining: 15m 15s\n",
            "107:\tlearn: 0.5094748\ttotal: 1m 50s\tremaining: 15m 14s\n",
            "108:\tlearn: 0.5091590\ttotal: 1m 51s\tremaining: 15m 14s\n",
            "109:\tlearn: 0.5088394\ttotal: 1m 52s\tremaining: 15m 13s\n",
            "110:\tlearn: 0.5084332\ttotal: 1m 54s\tremaining: 15m 13s\n",
            "111:\tlearn: 0.5081702\ttotal: 1m 55s\tremaining: 15m 11s\n",
            "112:\tlearn: 0.5078931\ttotal: 1m 56s\tremaining: 15m 11s\n",
            "113:\tlearn: 0.5076111\ttotal: 1m 57s\tremaining: 15m 9s\n",
            "114:\tlearn: 0.5070492\ttotal: 1m 57s\tremaining: 15m 7s\n",
            "115:\tlearn: 0.5066984\ttotal: 1m 58s\tremaining: 15m 6s\n",
            "116:\tlearn: 0.5064137\ttotal: 2m\tremaining: 15m 6s\n",
            "117:\tlearn: 0.5060922\ttotal: 2m 1s\tremaining: 15m 5s\n",
            "118:\tlearn: 0.5058824\ttotal: 2m 2s\tremaining: 15m 4s\n",
            "119:\tlearn: 0.5055295\ttotal: 2m 3s\tremaining: 15m 3s\n",
            "120:\tlearn: 0.5054402\ttotal: 2m 4s\tremaining: 15m 2s\n",
            "121:\tlearn: 0.5051235\ttotal: 2m 5s\tremaining: 15m 2s\n",
            "122:\tlearn: 0.5046124\ttotal: 2m 6s\tremaining: 15m 1s\n",
            "123:\tlearn: 0.5044242\ttotal: 2m 7s\tremaining: 14m 59s\n",
            "124:\tlearn: 0.5042695\ttotal: 2m 8s\tremaining: 14m 58s\n",
            "125:\tlearn: 0.5039440\ttotal: 2m 9s\tremaining: 14m 57s\n",
            "126:\tlearn: 0.5035354\ttotal: 2m 10s\tremaining: 14m 56s\n",
            "127:\tlearn: 0.5032770\ttotal: 2m 11s\tremaining: 14m 55s\n",
            "128:\tlearn: 0.5031170\ttotal: 2m 12s\tremaining: 14m 54s\n",
            "129:\tlearn: 0.5028870\ttotal: 2m 13s\tremaining: 14m 54s\n",
            "130:\tlearn: 0.5025399\ttotal: 2m 14s\tremaining: 14m 52s\n",
            "131:\tlearn: 0.5023489\ttotal: 2m 15s\tremaining: 14m 51s\n",
            "132:\tlearn: 0.5021329\ttotal: 2m 16s\tremaining: 14m 50s\n",
            "133:\tlearn: 0.5020012\ttotal: 2m 17s\tremaining: 14m 49s\n",
            "134:\tlearn: 0.5017798\ttotal: 2m 18s\tremaining: 14m 49s\n",
            "135:\tlearn: 0.5015736\ttotal: 2m 19s\tremaining: 14m 47s\n",
            "136:\tlearn: 0.5013964\ttotal: 2m 20s\tremaining: 14m 46s\n",
            "137:\tlearn: 0.5013085\ttotal: 2m 21s\tremaining: 14m 45s\n",
            "138:\tlearn: 0.5010823\ttotal: 2m 22s\tremaining: 14m 44s\n",
            "139:\tlearn: 0.5008546\ttotal: 2m 23s\tremaining: 14m 43s\n",
            "140:\tlearn: 0.5004741\ttotal: 2m 24s\tremaining: 14m 42s\n",
            "141:\tlearn: 0.5002410\ttotal: 2m 25s\tremaining: 14m 41s\n",
            "142:\tlearn: 0.4999397\ttotal: 2m 26s\tremaining: 14m 40s\n",
            "143:\tlearn: 0.4997438\ttotal: 2m 28s\tremaining: 14m 40s\n",
            "144:\tlearn: 0.4991976\ttotal: 2m 29s\tremaining: 14m 39s\n",
            "145:\tlearn: 0.4989836\ttotal: 2m 30s\tremaining: 14m 37s\n",
            "146:\tlearn: 0.4988662\ttotal: 2m 30s\tremaining: 14m 35s\n",
            "147:\tlearn: 0.4986330\ttotal: 2m 31s\tremaining: 14m 34s\n",
            "148:\tlearn: 0.4983868\ttotal: 2m 32s\tremaining: 14m 33s\n",
            "149:\tlearn: 0.4981899\ttotal: 2m 34s\tremaining: 14m 33s\n",
            "150:\tlearn: 0.4978202\ttotal: 2m 35s\tremaining: 14m 32s\n",
            "151:\tlearn: 0.4975415\ttotal: 2m 36s\tremaining: 14m 30s\n",
            "152:\tlearn: 0.4974019\ttotal: 2m 37s\tremaining: 14m 29s\n",
            "153:\tlearn: 0.4972916\ttotal: 2m 38s\tremaining: 14m 28s\n",
            "154:\tlearn: 0.4970780\ttotal: 2m 39s\tremaining: 14m 28s\n",
            "155:\tlearn: 0.4968127\ttotal: 2m 40s\tremaining: 14m 27s\n",
            "156:\tlearn: 0.4966807\ttotal: 2m 41s\tremaining: 14m 25s\n",
            "157:\tlearn: 0.4964663\ttotal: 2m 42s\tremaining: 14m 24s\n",
            "158:\tlearn: 0.4963312\ttotal: 2m 43s\tremaining: 14m 23s\n",
            "159:\tlearn: 0.4961842\ttotal: 2m 44s\tremaining: 14m 21s\n",
            "160:\tlearn: 0.4960329\ttotal: 2m 45s\tremaining: 14m 21s\n",
            "161:\tlearn: 0.4958282\ttotal: 2m 46s\tremaining: 14m 19s\n",
            "162:\tlearn: 0.4957639\ttotal: 2m 47s\tremaining: 14m 18s\n",
            "163:\tlearn: 0.4956819\ttotal: 2m 48s\tremaining: 14m 17s\n",
            "164:\tlearn: 0.4956081\ttotal: 2m 49s\tremaining: 14m 16s\n",
            "165:\tlearn: 0.4952802\ttotal: 2m 50s\tremaining: 14m 15s\n",
            "166:\tlearn: 0.4951533\ttotal: 2m 51s\tremaining: 14m 14s\n",
            "167:\tlearn: 0.4950075\ttotal: 2m 52s\tremaining: 14m 14s\n",
            "168:\tlearn: 0.4947448\ttotal: 2m 53s\tremaining: 14m 13s\n",
            "169:\tlearn: 0.4945358\ttotal: 2m 54s\tremaining: 14m 12s\n",
            "170:\tlearn: 0.4944162\ttotal: 2m 55s\tremaining: 14m 11s\n",
            "171:\tlearn: 0.4942088\ttotal: 2m 56s\tremaining: 14m 10s\n",
            "172:\tlearn: 0.4940916\ttotal: 2m 57s\tremaining: 14m 10s\n",
            "173:\tlearn: 0.4938250\ttotal: 2m 58s\tremaining: 14m 9s\n",
            "174:\tlearn: 0.4936607\ttotal: 2m 59s\tremaining: 14m 8s\n",
            "175:\tlearn: 0.4934587\ttotal: 3m\tremaining: 14m 7s\n",
            "176:\tlearn: 0.4933244\ttotal: 3m 2s\tremaining: 14m 6s\n",
            "177:\tlearn: 0.4931620\ttotal: 3m 3s\tremaining: 14m 5s\n",
            "178:\tlearn: 0.4930638\ttotal: 3m 4s\tremaining: 14m 4s\n",
            "179:\tlearn: 0.4929834\ttotal: 3m 5s\tremaining: 14m 3s\n",
            "180:\tlearn: 0.4928301\ttotal: 3m 6s\tremaining: 14m 2s\n",
            "181:\tlearn: 0.4927035\ttotal: 3m 7s\tremaining: 14m 1s\n",
            "182:\tlearn: 0.4926252\ttotal: 3m 8s\tremaining: 13m 59s\n",
            "183:\tlearn: 0.4925610\ttotal: 3m 9s\tremaining: 13m 58s\n",
            "184:\tlearn: 0.4923219\ttotal: 3m 10s\tremaining: 13m 57s\n",
            "185:\tlearn: 0.4920738\ttotal: 3m 11s\tremaining: 13m 57s\n",
            "186:\tlearn: 0.4920369\ttotal: 3m 12s\tremaining: 13m 55s\n",
            "187:\tlearn: 0.4919627\ttotal: 3m 13s\tremaining: 13m 54s\n",
            "188:\tlearn: 0.4917244\ttotal: 3m 14s\tremaining: 13m 54s\n",
            "189:\tlearn: 0.4915848\ttotal: 3m 15s\tremaining: 13m 53s\n",
            "190:\tlearn: 0.4914966\ttotal: 3m 16s\tremaining: 13m 52s\n",
            "191:\tlearn: 0.4912942\ttotal: 3m 17s\tremaining: 13m 51s\n",
            "192:\tlearn: 0.4911791\ttotal: 3m 18s\tremaining: 13m 50s\n",
            "193:\tlearn: 0.4909921\ttotal: 3m 19s\tremaining: 13m 49s\n",
            "194:\tlearn: 0.4908041\ttotal: 3m 20s\tremaining: 13m 48s\n",
            "195:\tlearn: 0.4906571\ttotal: 3m 21s\tremaining: 13m 47s\n",
            "196:\tlearn: 0.4905608\ttotal: 3m 22s\tremaining: 13m 46s\n",
            "197:\tlearn: 0.4903161\ttotal: 3m 23s\tremaining: 13m 44s\n",
            "198:\tlearn: 0.4902555\ttotal: 3m 24s\tremaining: 13m 43s\n",
            "199:\tlearn: 0.4901493\ttotal: 3m 25s\tremaining: 13m 42s\n",
            "200:\tlearn: 0.4900595\ttotal: 3m 26s\tremaining: 13m 41s\n",
            "201:\tlearn: 0.4897970\ttotal: 3m 27s\tremaining: 13m 41s\n",
            "202:\tlearn: 0.4896903\ttotal: 3m 28s\tremaining: 13m 40s\n",
            "203:\tlearn: 0.4895667\ttotal: 3m 29s\tremaining: 13m 39s\n",
            "204:\tlearn: 0.4894195\ttotal: 3m 31s\tremaining: 13m 38s\n",
            "205:\tlearn: 0.4892318\ttotal: 3m 32s\tremaining: 13m 37s\n",
            "206:\tlearn: 0.4889519\ttotal: 3m 32s\tremaining: 13m 35s\n",
            "207:\tlearn: 0.4887807\ttotal: 3m 33s\tremaining: 13m 34s\n",
            "208:\tlearn: 0.4886998\ttotal: 3m 34s\tremaining: 13m 33s\n",
            "209:\tlearn: 0.4885418\ttotal: 3m 35s\tremaining: 13m 32s\n",
            "210:\tlearn: 0.4883507\ttotal: 3m 36s\tremaining: 13m 31s\n",
            "211:\tlearn: 0.4881752\ttotal: 3m 37s\tremaining: 13m 30s\n",
            "212:\tlearn: 0.4880577\ttotal: 3m 39s\tremaining: 13m 29s\n",
            "213:\tlearn: 0.4880010\ttotal: 3m 40s\tremaining: 13m 28s\n",
            "214:\tlearn: 0.4878699\ttotal: 3m 41s\tremaining: 13m 27s\n",
            "215:\tlearn: 0.4877126\ttotal: 3m 42s\tremaining: 13m 26s\n",
            "216:\tlearn: 0.4875441\ttotal: 3m 43s\tremaining: 13m 25s\n",
            "217:\tlearn: 0.4875080\ttotal: 3m 44s\tremaining: 13m 24s\n",
            "218:\tlearn: 0.4873817\ttotal: 3m 45s\tremaining: 13m 22s\n",
            "219:\tlearn: 0.4871993\ttotal: 3m 46s\tremaining: 13m 22s\n",
            "220:\tlearn: 0.4870312\ttotal: 3m 47s\tremaining: 13m 21s\n",
            "221:\tlearn: 0.4869275\ttotal: 3m 48s\tremaining: 13m 20s\n",
            "222:\tlearn: 0.4867950\ttotal: 3m 49s\tremaining: 13m 19s\n",
            "223:\tlearn: 0.4867377\ttotal: 3m 50s\tremaining: 13m 17s\n",
            "224:\tlearn: 0.4866058\ttotal: 3m 51s\tremaining: 13m 17s\n",
            "225:\tlearn: 0.4864369\ttotal: 3m 52s\tremaining: 13m 16s\n",
            "226:\tlearn: 0.4862269\ttotal: 3m 53s\tremaining: 13m 15s\n",
            "227:\tlearn: 0.4860597\ttotal: 3m 54s\tremaining: 13m 14s\n",
            "228:\tlearn: 0.4860375\ttotal: 3m 55s\tremaining: 13m 13s\n",
            "229:\tlearn: 0.4860111\ttotal: 3m 56s\tremaining: 13m 11s\n",
            "230:\tlearn: 0.4859004\ttotal: 3m 57s\tremaining: 13m 10s\n",
            "231:\tlearn: 0.4857188\ttotal: 3m 58s\tremaining: 13m 9s\n",
            "232:\tlearn: 0.4856701\ttotal: 3m 59s\tremaining: 13m 8s\n",
            "233:\tlearn: 0.4854962\ttotal: 4m\tremaining: 13m 6s\n",
            "234:\tlearn: 0.4853223\ttotal: 4m 1s\tremaining: 13m 5s\n",
            "235:\tlearn: 0.4851528\ttotal: 4m 2s\tremaining: 13m 4s\n",
            "236:\tlearn: 0.4850362\ttotal: 4m 3s\tremaining: 13m 3s\n",
            "237:\tlearn: 0.4849844\ttotal: 4m 4s\tremaining: 13m 1s\n",
            "238:\tlearn: 0.4848566\ttotal: 4m 5s\tremaining: 13m\n",
            "239:\tlearn: 0.4847381\ttotal: 4m 6s\tremaining: 12m 59s\n",
            "240:\tlearn: 0.4847089\ttotal: 4m 7s\tremaining: 12m 58s\n",
            "241:\tlearn: 0.4845475\ttotal: 4m 8s\tremaining: 12m 57s\n",
            "242:\tlearn: 0.4844381\ttotal: 4m 9s\tremaining: 12m 56s\n",
            "243:\tlearn: 0.4843424\ttotal: 4m 9s\tremaining: 12m 54s\n",
            "244:\tlearn: 0.4840998\ttotal: 4m 11s\tremaining: 12m 53s\n",
            "245:\tlearn: 0.4839542\ttotal: 4m 12s\tremaining: 12m 52s\n",
            "246:\tlearn: 0.4837635\ttotal: 4m 13s\tremaining: 12m 51s\n",
            "247:\tlearn: 0.4836158\ttotal: 4m 13s\tremaining: 12m 50s\n",
            "248:\tlearn: 0.4834296\ttotal: 4m 15s\tremaining: 12m 49s\n",
            "249:\tlearn: 0.4833145\ttotal: 4m 16s\tremaining: 12m 48s\n",
            "250:\tlearn: 0.4831416\ttotal: 4m 17s\tremaining: 12m 47s\n",
            "251:\tlearn: 0.4830579\ttotal: 4m 18s\tremaining: 12m 46s\n",
            "252:\tlearn: 0.4829745\ttotal: 4m 19s\tremaining: 12m 45s\n",
            "253:\tlearn: 0.4829342\ttotal: 4m 20s\tremaining: 12m 44s\n",
            "254:\tlearn: 0.4828411\ttotal: 4m 21s\tremaining: 12m 43s\n",
            "255:\tlearn: 0.4827094\ttotal: 4m 22s\tremaining: 12m 42s\n",
            "256:\tlearn: 0.4825807\ttotal: 4m 23s\tremaining: 12m 41s\n",
            "257:\tlearn: 0.4823973\ttotal: 4m 24s\tremaining: 12m 40s\n",
            "258:\tlearn: 0.4822862\ttotal: 4m 25s\tremaining: 12m 39s\n",
            "259:\tlearn: 0.4822127\ttotal: 4m 26s\tremaining: 12m 38s\n",
            "260:\tlearn: 0.4821068\ttotal: 4m 27s\tremaining: 12m 37s\n",
            "261:\tlearn: 0.4819654\ttotal: 4m 28s\tremaining: 12m 36s\n",
            "262:\tlearn: 0.4817984\ttotal: 4m 29s\tremaining: 12m 35s\n",
            "263:\tlearn: 0.4816425\ttotal: 4m 30s\tremaining: 12m 35s\n",
            "264:\tlearn: 0.4814594\ttotal: 4m 31s\tremaining: 12m 33s\n",
            "265:\tlearn: 0.4813464\ttotal: 4m 32s\tremaining: 12m 33s\n",
            "266:\tlearn: 0.4813009\ttotal: 4m 33s\tremaining: 12m 31s\n",
            "267:\tlearn: 0.4811403\ttotal: 4m 34s\tremaining: 12m 30s\n",
            "268:\tlearn: 0.4809156\ttotal: 4m 35s\tremaining: 12m 29s\n",
            "269:\tlearn: 0.4807394\ttotal: 4m 37s\tremaining: 12m 28s\n",
            "270:\tlearn: 0.4806351\ttotal: 4m 38s\tremaining: 12m 27s\n",
            "271:\tlearn: 0.4805932\ttotal: 4m 38s\tremaining: 12m 26s\n",
            "272:\tlearn: 0.4804468\ttotal: 4m 40s\tremaining: 12m 25s\n",
            "273:\tlearn: 0.4802396\ttotal: 4m 41s\tremaining: 12m 24s\n",
            "274:\tlearn: 0.4800647\ttotal: 4m 42s\tremaining: 12m 24s\n",
            "275:\tlearn: 0.4800069\ttotal: 4m 43s\tremaining: 12m 23s\n",
            "276:\tlearn: 0.4798824\ttotal: 4m 44s\tremaining: 12m 22s\n",
            "277:\tlearn: 0.4798326\ttotal: 4m 45s\tremaining: 12m 21s\n",
            "278:\tlearn: 0.4796999\ttotal: 4m 46s\tremaining: 12m 20s\n",
            "279:\tlearn: 0.4796589\ttotal: 4m 47s\tremaining: 12m 19s\n",
            "280:\tlearn: 0.4794463\ttotal: 4m 48s\tremaining: 12m 18s\n",
            "281:\tlearn: 0.4793361\ttotal: 4m 49s\tremaining: 12m 17s\n",
            "282:\tlearn: 0.4792861\ttotal: 4m 50s\tremaining: 12m 16s\n",
            "283:\tlearn: 0.4791301\ttotal: 4m 51s\tremaining: 12m 15s\n",
            "284:\tlearn: 0.4790466\ttotal: 4m 52s\tremaining: 12m 14s\n",
            "285:\tlearn: 0.4789583\ttotal: 4m 53s\tremaining: 12m 13s\n",
            "286:\tlearn: 0.4788680\ttotal: 4m 54s\tremaining: 12m 12s\n",
            "287:\tlearn: 0.4788433\ttotal: 4m 55s\tremaining: 12m 11s\n",
            "288:\tlearn: 0.4786979\ttotal: 4m 56s\tremaining: 12m 10s\n",
            "289:\tlearn: 0.4784879\ttotal: 4m 57s\tremaining: 12m 9s\n",
            "290:\tlearn: 0.4783070\ttotal: 4m 58s\tremaining: 12m 8s\n",
            "291:\tlearn: 0.4782224\ttotal: 4m 59s\tremaining: 12m 7s\n",
            "292:\tlearn: 0.4780325\ttotal: 5m 1s\tremaining: 12m 6s\n",
            "293:\tlearn: 0.4778515\ttotal: 5m 1s\tremaining: 12m 5s\n",
            "294:\tlearn: 0.4777577\ttotal: 5m 3s\tremaining: 12m 4s\n",
            "295:\tlearn: 0.4777207\ttotal: 5m 4s\tremaining: 12m 3s\n",
            "296:\tlearn: 0.4776778\ttotal: 5m 5s\tremaining: 12m 2s\n",
            "297:\tlearn: 0.4776612\ttotal: 5m 6s\tremaining: 12m 1s\n",
            "298:\tlearn: 0.4776208\ttotal: 5m 7s\tremaining: 12m\n",
            "299:\tlearn: 0.4775524\ttotal: 5m 8s\tremaining: 11m 59s\n",
            "300:\tlearn: 0.4775278\ttotal: 5m 9s\tremaining: 11m 58s\n",
            "301:\tlearn: 0.4775002\ttotal: 5m 10s\tremaining: 11m 57s\n",
            "302:\tlearn: 0.4774189\ttotal: 5m 11s\tremaining: 11m 56s\n",
            "303:\tlearn: 0.4773087\ttotal: 5m 12s\tremaining: 11m 55s\n",
            "304:\tlearn: 0.4772434\ttotal: 5m 13s\tremaining: 11m 54s\n",
            "305:\tlearn: 0.4772045\ttotal: 5m 14s\tremaining: 11m 52s\n",
            "306:\tlearn: 0.4771348\ttotal: 5m 15s\tremaining: 11m 51s\n",
            "307:\tlearn: 0.4770845\ttotal: 5m 16s\tremaining: 11m 50s\n",
            "308:\tlearn: 0.4770037\ttotal: 5m 17s\tremaining: 11m 49s\n",
            "309:\tlearn: 0.4769119\ttotal: 5m 18s\tremaining: 11m 48s\n",
            "310:\tlearn: 0.4767814\ttotal: 5m 19s\tremaining: 11m 47s\n",
            "311:\tlearn: 0.4766605\ttotal: 5m 20s\tremaining: 11m 46s\n",
            "312:\tlearn: 0.4766061\ttotal: 5m 21s\tremaining: 11m 45s\n",
            "313:\tlearn: 0.4765267\ttotal: 5m 22s\tremaining: 11m 44s\n",
            "314:\tlearn: 0.4764477\ttotal: 5m 23s\tremaining: 11m 42s\n",
            "315:\tlearn: 0.4763422\ttotal: 5m 24s\tremaining: 11m 42s\n",
            "316:\tlearn: 0.4762862\ttotal: 5m 25s\tremaining: 11m 41s\n",
            "317:\tlearn: 0.4761543\ttotal: 5m 26s\tremaining: 11m 40s\n",
            "318:\tlearn: 0.4760832\ttotal: 5m 27s\tremaining: 11m 38s\n",
            "319:\tlearn: 0.4758951\ttotal: 5m 28s\tremaining: 11m 37s\n",
            "320:\tlearn: 0.4758271\ttotal: 5m 29s\tremaining: 11m 36s\n",
            "321:\tlearn: 0.4757863\ttotal: 5m 30s\tremaining: 11m 35s\n",
            "322:\tlearn: 0.4757403\ttotal: 5m 31s\tremaining: 11m 34s\n",
            "323:\tlearn: 0.4755689\ttotal: 5m 32s\tremaining: 11m 33s\n",
            "324:\tlearn: 0.4754025\ttotal: 5m 33s\tremaining: 11m 32s\n",
            "325:\tlearn: 0.4753407\ttotal: 5m 34s\tremaining: 11m 31s\n",
            "326:\tlearn: 0.4752699\ttotal: 5m 35s\tremaining: 11m 30s\n",
            "327:\tlearn: 0.4752199\ttotal: 5m 36s\tremaining: 11m 29s\n",
            "328:\tlearn: 0.4751567\ttotal: 5m 37s\tremaining: 11m 28s\n",
            "329:\tlearn: 0.4751369\ttotal: 5m 38s\tremaining: 11m 27s\n",
            "330:\tlearn: 0.4750518\ttotal: 5m 39s\tremaining: 11m 26s\n",
            "331:\tlearn: 0.4749463\ttotal: 5m 40s\tremaining: 11m 25s\n",
            "332:\tlearn: 0.4747491\ttotal: 5m 41s\tremaining: 11m 24s\n",
            "333:\tlearn: 0.4744893\ttotal: 5m 42s\tremaining: 11m 23s\n",
            "334:\tlearn: 0.4743838\ttotal: 5m 43s\tremaining: 11m 22s\n",
            "335:\tlearn: 0.4742646\ttotal: 5m 44s\tremaining: 11m 21s\n",
            "336:\tlearn: 0.4742404\ttotal: 5m 45s\tremaining: 11m 20s\n",
            "337:\tlearn: 0.4740253\ttotal: 5m 46s\tremaining: 11m 19s\n",
            "338:\tlearn: 0.4738604\ttotal: 5m 48s\tremaining: 11m 18s\n",
            "339:\tlearn: 0.4737486\ttotal: 5m 49s\tremaining: 11m 17s\n",
            "340:\tlearn: 0.4736489\ttotal: 5m 50s\tremaining: 11m 16s\n",
            "341:\tlearn: 0.4735717\ttotal: 5m 51s\tremaining: 11m 15s\n",
            "342:\tlearn: 0.4734308\ttotal: 5m 52s\tremaining: 11m 14s\n",
            "343:\tlearn: 0.4733873\ttotal: 5m 53s\tremaining: 11m 13s\n",
            "344:\tlearn: 0.4731379\ttotal: 5m 54s\tremaining: 11m 12s\n",
            "345:\tlearn: 0.4729931\ttotal: 5m 55s\tremaining: 11m 11s\n",
            "346:\tlearn: 0.4728808\ttotal: 5m 56s\tremaining: 11m 10s\n",
            "347:\tlearn: 0.4727231\ttotal: 5m 57s\tremaining: 11m 9s\n",
            "348:\tlearn: 0.4726507\ttotal: 5m 58s\tremaining: 11m 8s\n",
            "349:\tlearn: 0.4725279\ttotal: 5m 59s\tremaining: 11m 7s\n",
            "350:\tlearn: 0.4724098\ttotal: 6m\tremaining: 11m 6s\n",
            "351:\tlearn: 0.4721979\ttotal: 6m 1s\tremaining: 11m 5s\n",
            "352:\tlearn: 0.4721106\ttotal: 6m 2s\tremaining: 11m 4s\n",
            "353:\tlearn: 0.4720477\ttotal: 6m 3s\tremaining: 11m 3s\n",
            "354:\tlearn: 0.4720127\ttotal: 6m 4s\tremaining: 11m 2s\n",
            "355:\tlearn: 0.4719253\ttotal: 6m 5s\tremaining: 11m 1s\n",
            "356:\tlearn: 0.4716354\ttotal: 6m 6s\tremaining: 11m\n",
            "357:\tlearn: 0.4715159\ttotal: 6m 7s\tremaining: 10m 59s\n",
            "358:\tlearn: 0.4714594\ttotal: 6m 8s\tremaining: 10m 57s\n",
            "359:\tlearn: 0.4712204\ttotal: 6m 9s\tremaining: 10m 56s\n",
            "360:\tlearn: 0.4711301\ttotal: 6m 10s\tremaining: 10m 55s\n",
            "361:\tlearn: 0.4710080\ttotal: 6m 11s\tremaining: 10m 54s\n",
            "362:\tlearn: 0.4709230\ttotal: 6m 12s\tremaining: 10m 53s\n",
            "363:\tlearn: 0.4708396\ttotal: 6m 13s\tremaining: 10m 52s\n",
            "364:\tlearn: 0.4707609\ttotal: 6m 14s\tremaining: 10m 51s\n",
            "365:\tlearn: 0.4706546\ttotal: 6m 15s\tremaining: 10m 50s\n",
            "366:\tlearn: 0.4704755\ttotal: 6m 16s\tremaining: 10m 49s\n",
            "367:\tlearn: 0.4704113\ttotal: 6m 17s\tremaining: 10m 48s\n",
            "368:\tlearn: 0.4702512\ttotal: 6m 18s\tremaining: 10m 47s\n",
            "369:\tlearn: 0.4701443\ttotal: 6m 19s\tremaining: 10m 46s\n",
            "370:\tlearn: 0.4701262\ttotal: 6m 20s\tremaining: 10m 45s\n",
            "371:\tlearn: 0.4700033\ttotal: 6m 21s\tremaining: 10m 44s\n",
            "372:\tlearn: 0.4699305\ttotal: 6m 22s\tremaining: 10m 43s\n",
            "373:\tlearn: 0.4698472\ttotal: 6m 23s\tremaining: 10m 42s\n",
            "374:\tlearn: 0.4697225\ttotal: 6m 24s\tremaining: 10m 41s\n",
            "375:\tlearn: 0.4696337\ttotal: 6m 25s\tremaining: 10m 40s\n",
            "376:\tlearn: 0.4695751\ttotal: 6m 26s\tremaining: 10m 39s\n",
            "377:\tlearn: 0.4694976\ttotal: 6m 27s\tremaining: 10m 38s\n",
            "378:\tlearn: 0.4694410\ttotal: 6m 28s\tremaining: 10m 37s\n",
            "379:\tlearn: 0.4693640\ttotal: 6m 29s\tremaining: 10m 36s\n",
            "380:\tlearn: 0.4692770\ttotal: 6m 30s\tremaining: 10m 35s\n",
            "381:\tlearn: 0.4692332\ttotal: 6m 31s\tremaining: 10m 33s\n",
            "382:\tlearn: 0.4691568\ttotal: 6m 32s\tremaining: 10m 32s\n",
            "383:\tlearn: 0.4691256\ttotal: 6m 33s\tremaining: 10m 31s\n",
            "384:\tlearn: 0.4689737\ttotal: 6m 34s\tremaining: 10m 30s\n",
            "385:\tlearn: 0.4688772\ttotal: 6m 35s\tremaining: 10m 29s\n",
            "386:\tlearn: 0.4688478\ttotal: 6m 36s\tremaining: 10m 28s\n",
            "387:\tlearn: 0.4687608\ttotal: 6m 38s\tremaining: 10m 27s\n",
            "388:\tlearn: 0.4686781\ttotal: 6m 39s\tremaining: 10m 26s\n",
            "389:\tlearn: 0.4685715\ttotal: 6m 40s\tremaining: 10m 25s\n",
            "390:\tlearn: 0.4684549\ttotal: 6m 41s\tremaining: 10m 24s\n",
            "391:\tlearn: 0.4683081\ttotal: 6m 42s\tremaining: 10m 23s\n",
            "392:\tlearn: 0.4682555\ttotal: 6m 43s\tremaining: 10m 22s\n",
            "393:\tlearn: 0.4681478\ttotal: 6m 44s\tremaining: 10m 21s\n",
            "394:\tlearn: 0.4680489\ttotal: 6m 45s\tremaining: 10m 20s\n",
            "395:\tlearn: 0.4680047\ttotal: 6m 46s\tremaining: 10m 19s\n",
            "396:\tlearn: 0.4678998\ttotal: 6m 47s\tremaining: 10m 18s\n",
            "397:\tlearn: 0.4678069\ttotal: 6m 48s\tremaining: 10m 17s\n",
            "398:\tlearn: 0.4677460\ttotal: 6m 49s\tremaining: 10m 16s\n",
            "399:\tlearn: 0.4676193\ttotal: 6m 50s\tremaining: 10m 15s\n",
            "400:\tlearn: 0.4675401\ttotal: 6m 51s\tremaining: 10m 14s\n",
            "401:\tlearn: 0.4673890\ttotal: 6m 52s\tremaining: 10m 13s\n",
            "402:\tlearn: 0.4673163\ttotal: 6m 53s\tremaining: 10m 12s\n",
            "403:\tlearn: 0.4671927\ttotal: 6m 54s\tremaining: 10m 11s\n",
            "404:\tlearn: 0.4671537\ttotal: 6m 55s\tremaining: 10m 10s\n",
            "405:\tlearn: 0.4670329\ttotal: 6m 56s\tremaining: 10m 9s\n",
            "406:\tlearn: 0.4669751\ttotal: 6m 57s\tremaining: 10m 8s\n",
            "407:\tlearn: 0.4668693\ttotal: 6m 58s\tremaining: 10m 7s\n",
            "408:\tlearn: 0.4668375\ttotal: 6m 59s\tremaining: 10m 6s\n",
            "409:\tlearn: 0.4668102\ttotal: 7m\tremaining: 10m 5s\n",
            "410:\tlearn: 0.4667476\ttotal: 7m 1s\tremaining: 10m 4s\n",
            "411:\tlearn: 0.4666925\ttotal: 7m 2s\tremaining: 10m 3s\n",
            "412:\tlearn: 0.4665788\ttotal: 7m 3s\tremaining: 10m 2s\n",
            "413:\tlearn: 0.4665105\ttotal: 7m 4s\tremaining: 10m 1s\n",
            "414:\tlearn: 0.4663742\ttotal: 7m 5s\tremaining: 10m\n",
            "415:\tlearn: 0.4662958\ttotal: 7m 6s\tremaining: 9m 59s\n",
            "416:\tlearn: 0.4662184\ttotal: 7m 7s\tremaining: 9m 58s\n",
            "417:\tlearn: 0.4660712\ttotal: 7m 8s\tremaining: 9m 57s\n",
            "418:\tlearn: 0.4660024\ttotal: 7m 9s\tremaining: 9m 56s\n",
            "419:\tlearn: 0.4659019\ttotal: 7m 10s\tremaining: 9m 55s\n",
            "420:\tlearn: 0.4658056\ttotal: 7m 11s\tremaining: 9m 54s\n",
            "421:\tlearn: 0.4656997\ttotal: 7m 12s\tremaining: 9m 53s\n",
            "422:\tlearn: 0.4656024\ttotal: 7m 14s\tremaining: 9m 52s\n",
            "423:\tlearn: 0.4655679\ttotal: 7m 14s\tremaining: 9m 50s\n",
            "424:\tlearn: 0.4655253\ttotal: 7m 15s\tremaining: 9m 49s\n",
            "425:\tlearn: 0.4654897\ttotal: 7m 16s\tremaining: 9m 48s\n",
            "426:\tlearn: 0.4654326\ttotal: 7m 17s\tremaining: 9m 47s\n",
            "427:\tlearn: 0.4653799\ttotal: 7m 18s\tremaining: 9m 46s\n",
            "428:\tlearn: 0.4652689\ttotal: 7m 19s\tremaining: 9m 45s\n",
            "429:\tlearn: 0.4651546\ttotal: 7m 20s\tremaining: 9m 44s\n",
            "430:\tlearn: 0.4650405\ttotal: 7m 21s\tremaining: 9m 43s\n",
            "431:\tlearn: 0.4649737\ttotal: 7m 22s\tremaining: 9m 42s\n",
            "432:\tlearn: 0.4649308\ttotal: 7m 23s\tremaining: 9m 41s\n",
            "433:\tlearn: 0.4648226\ttotal: 7m 25s\tremaining: 9m 40s\n",
            "434:\tlearn: 0.4647602\ttotal: 7m 26s\tremaining: 9m 39s\n",
            "435:\tlearn: 0.4646393\ttotal: 7m 27s\tremaining: 9m 38s\n",
            "436:\tlearn: 0.4645169\ttotal: 7m 28s\tremaining: 9m 37s\n",
            "437:\tlearn: 0.4644778\ttotal: 7m 29s\tremaining: 9m 36s\n",
            "438:\tlearn: 0.4643331\ttotal: 7m 30s\tremaining: 9m 35s\n",
            "439:\tlearn: 0.4642056\ttotal: 7m 31s\tremaining: 9m 34s\n",
            "440:\tlearn: 0.4640760\ttotal: 7m 32s\tremaining: 9m 33s\n",
            "441:\tlearn: 0.4640588\ttotal: 7m 33s\tremaining: 9m 32s\n",
            "442:\tlearn: 0.4639322\ttotal: 7m 34s\tremaining: 9m 31s\n",
            "443:\tlearn: 0.4638577\ttotal: 7m 35s\tremaining: 9m 30s\n",
            "444:\tlearn: 0.4637854\ttotal: 7m 36s\tremaining: 9m 29s\n",
            "445:\tlearn: 0.4637255\ttotal: 7m 37s\tremaining: 9m 28s\n",
            "446:\tlearn: 0.4636287\ttotal: 7m 38s\tremaining: 9m 27s\n",
            "447:\tlearn: 0.4635555\ttotal: 7m 39s\tremaining: 9m 26s\n",
            "448:\tlearn: 0.4635234\ttotal: 7m 40s\tremaining: 9m 25s\n",
            "449:\tlearn: 0.4634616\ttotal: 7m 41s\tremaining: 9m 24s\n",
            "450:\tlearn: 0.4634003\ttotal: 7m 42s\tremaining: 9m 23s\n",
            "451:\tlearn: 0.4633053\ttotal: 7m 43s\tremaining: 9m 22s\n",
            "452:\tlearn: 0.4632287\ttotal: 7m 44s\tremaining: 9m 21s\n",
            "453:\tlearn: 0.4631932\ttotal: 7m 45s\tremaining: 9m 20s\n",
            "454:\tlearn: 0.4631621\ttotal: 7m 46s\tremaining: 9m 19s\n",
            "455:\tlearn: 0.4630742\ttotal: 7m 48s\tremaining: 9m 18s\n",
            "456:\tlearn: 0.4630432\ttotal: 7m 49s\tremaining: 9m 17s\n",
            "457:\tlearn: 0.4629668\ttotal: 7m 50s\tremaining: 9m 16s\n",
            "458:\tlearn: 0.4627547\ttotal: 7m 51s\tremaining: 9m 15s\n",
            "459:\tlearn: 0.4626254\ttotal: 7m 51s\tremaining: 9m 14s\n",
            "460:\tlearn: 0.4625050\ttotal: 7m 52s\tremaining: 9m 13s\n",
            "461:\tlearn: 0.4624511\ttotal: 7m 53s\tremaining: 9m 11s\n",
            "462:\tlearn: 0.4622831\ttotal: 7m 55s\tremaining: 9m 11s\n",
            "463:\tlearn: 0.4621383\ttotal: 7m 56s\tremaining: 9m 10s\n",
            "464:\tlearn: 0.4620444\ttotal: 7m 57s\tremaining: 9m 9s\n",
            "465:\tlearn: 0.4619385\ttotal: 7m 58s\tremaining: 9m 8s\n",
            "466:\tlearn: 0.4618356\ttotal: 7m 59s\tremaining: 9m 7s\n",
            "467:\tlearn: 0.4617717\ttotal: 8m\tremaining: 9m 6s\n",
            "468:\tlearn: 0.4617002\ttotal: 8m 1s\tremaining: 9m 5s\n",
            "469:\tlearn: 0.4615505\ttotal: 8m 2s\tremaining: 9m 4s\n",
            "470:\tlearn: 0.4614109\ttotal: 8m 3s\tremaining: 9m 2s\n",
            "471:\tlearn: 0.4611941\ttotal: 8m 4s\tremaining: 9m 1s\n",
            "472:\tlearn: 0.4611056\ttotal: 8m 5s\tremaining: 9m 1s\n",
            "473:\tlearn: 0.4610708\ttotal: 8m 6s\tremaining: 8m 59s\n",
            "474:\tlearn: 0.4610249\ttotal: 8m 7s\tremaining: 8m 58s\n",
            "475:\tlearn: 0.4609510\ttotal: 8m 8s\tremaining: 8m 57s\n",
            "476:\tlearn: 0.4609271\ttotal: 8m 9s\tremaining: 8m 56s\n",
            "477:\tlearn: 0.4608331\ttotal: 8m 10s\tremaining: 8m 55s\n",
            "478:\tlearn: 0.4607892\ttotal: 8m 11s\tremaining: 8m 54s\n",
            "479:\tlearn: 0.4606583\ttotal: 8m 12s\tremaining: 8m 53s\n",
            "480:\tlearn: 0.4605930\ttotal: 8m 13s\tremaining: 8m 52s\n",
            "481:\tlearn: 0.4605120\ttotal: 8m 14s\tremaining: 8m 51s\n",
            "482:\tlearn: 0.4604712\ttotal: 8m 15s\tremaining: 8m 50s\n",
            "483:\tlearn: 0.4604432\ttotal: 8m 16s\tremaining: 8m 49s\n",
            "484:\tlearn: 0.4602727\ttotal: 8m 17s\tremaining: 8m 48s\n",
            "485:\tlearn: 0.4602287\ttotal: 8m 18s\tremaining: 8m 47s\n",
            "486:\tlearn: 0.4601079\ttotal: 8m 19s\tremaining: 8m 46s\n",
            "487:\tlearn: 0.4600907\ttotal: 8m 20s\tremaining: 8m 45s\n",
            "488:\tlearn: 0.4600203\ttotal: 8m 21s\tremaining: 8m 44s\n",
            "489:\tlearn: 0.4599211\ttotal: 8m 22s\tremaining: 8m 43s\n",
            "490:\tlearn: 0.4598366\ttotal: 8m 23s\tremaining: 8m 42s\n",
            "491:\tlearn: 0.4597361\ttotal: 8m 24s\tremaining: 8m 40s\n",
            "492:\tlearn: 0.4596373\ttotal: 8m 25s\tremaining: 8m 40s\n",
            "493:\tlearn: 0.4595869\ttotal: 8m 26s\tremaining: 8m 39s\n",
            "494:\tlearn: 0.4594941\ttotal: 8m 27s\tremaining: 8m 38s\n",
            "495:\tlearn: 0.4594619\ttotal: 8m 28s\tremaining: 8m 37s\n",
            "496:\tlearn: 0.4593972\ttotal: 8m 29s\tremaining: 8m 35s\n",
            "497:\tlearn: 0.4593276\ttotal: 8m 30s\tremaining: 8m 34s\n",
            "498:\tlearn: 0.4591628\ttotal: 8m 31s\tremaining: 8m 34s\n",
            "499:\tlearn: 0.4590771\ttotal: 8m 33s\tremaining: 8m 33s\n",
            "500:\tlearn: 0.4589944\ttotal: 8m 34s\tremaining: 8m 32s\n",
            "501:\tlearn: 0.4589247\ttotal: 8m 35s\tremaining: 8m 31s\n",
            "502:\tlearn: 0.4589141\ttotal: 8m 36s\tremaining: 8m 29s\n",
            "503:\tlearn: 0.4588647\ttotal: 8m 37s\tremaining: 8m 28s\n",
            "504:\tlearn: 0.4587947\ttotal: 8m 38s\tremaining: 8m 27s\n",
            "505:\tlearn: 0.4587231\ttotal: 8m 39s\tremaining: 8m 26s\n",
            "506:\tlearn: 0.4586870\ttotal: 8m 40s\tremaining: 8m 25s\n",
            "507:\tlearn: 0.4586222\ttotal: 8m 41s\tremaining: 8m 24s\n",
            "508:\tlearn: 0.4585587\ttotal: 8m 42s\tremaining: 8m 23s\n",
            "509:\tlearn: 0.4584672\ttotal: 8m 43s\tremaining: 8m 22s\n",
            "510:\tlearn: 0.4584043\ttotal: 8m 44s\tremaining: 8m 21s\n",
            "511:\tlearn: 0.4583285\ttotal: 8m 45s\tremaining: 8m 20s\n",
            "512:\tlearn: 0.4582694\ttotal: 8m 45s\tremaining: 8m 19s\n",
            "513:\tlearn: 0.4582325\ttotal: 8m 46s\tremaining: 8m 18s\n",
            "514:\tlearn: 0.4582164\ttotal: 8m 47s\tremaining: 8m 17s\n",
            "515:\tlearn: 0.4581499\ttotal: 8m 48s\tremaining: 8m 16s\n",
            "516:\tlearn: 0.4580456\ttotal: 8m 50s\tremaining: 8m 15s\n",
            "517:\tlearn: 0.4578558\ttotal: 8m 51s\tremaining: 8m 14s\n",
            "518:\tlearn: 0.4578259\ttotal: 8m 52s\tremaining: 8m 13s\n",
            "519:\tlearn: 0.4577641\ttotal: 8m 53s\tremaining: 8m 12s\n",
            "520:\tlearn: 0.4576914\ttotal: 8m 54s\tremaining: 8m 11s\n",
            "521:\tlearn: 0.4576081\ttotal: 8m 55s\tremaining: 8m 10s\n",
            "522:\tlearn: 0.4575293\ttotal: 8m 56s\tremaining: 8m 9s\n",
            "523:\tlearn: 0.4574116\ttotal: 8m 57s\tremaining: 8m 8s\n",
            "524:\tlearn: 0.4573681\ttotal: 8m 58s\tremaining: 8m 7s\n",
            "525:\tlearn: 0.4573307\ttotal: 8m 59s\tremaining: 8m 6s\n",
            "526:\tlearn: 0.4573188\ttotal: 9m\tremaining: 8m 5s\n",
            "527:\tlearn: 0.4572007\ttotal: 9m 1s\tremaining: 8m 4s\n",
            "528:\tlearn: 0.4570834\ttotal: 9m 2s\tremaining: 8m 3s\n",
            "529:\tlearn: 0.4569803\ttotal: 9m 3s\tremaining: 8m 2s\n",
            "530:\tlearn: 0.4569324\ttotal: 9m 4s\tremaining: 8m 1s\n",
            "531:\tlearn: 0.4568930\ttotal: 9m 5s\tremaining: 7m 59s\n",
            "532:\tlearn: 0.4567806\ttotal: 9m 6s\tremaining: 7m 58s\n",
            "533:\tlearn: 0.4567654\ttotal: 9m 7s\tremaining: 7m 57s\n",
            "534:\tlearn: 0.4567085\ttotal: 9m 8s\tremaining: 7m 56s\n",
            "535:\tlearn: 0.4566491\ttotal: 9m 9s\tremaining: 7m 56s\n",
            "536:\tlearn: 0.4565437\ttotal: 9m 10s\tremaining: 7m 55s\n",
            "537:\tlearn: 0.4564940\ttotal: 9m 11s\tremaining: 7m 53s\n",
            "538:\tlearn: 0.4563512\ttotal: 9m 12s\tremaining: 7m 52s\n",
            "539:\tlearn: 0.4563112\ttotal: 9m 13s\tremaining: 7m 51s\n",
            "540:\tlearn: 0.4562787\ttotal: 9m 15s\tremaining: 7m 50s\n",
            "541:\tlearn: 0.4561616\ttotal: 9m 16s\tremaining: 7m 49s\n",
            "542:\tlearn: 0.4561045\ttotal: 9m 17s\tremaining: 7m 48s\n",
            "543:\tlearn: 0.4560519\ttotal: 9m 18s\tremaining: 7m 47s\n",
            "544:\tlearn: 0.4560237\ttotal: 9m 19s\tremaining: 7m 46s\n",
            "545:\tlearn: 0.4559260\ttotal: 9m 20s\tremaining: 7m 45s\n",
            "546:\tlearn: 0.4558874\ttotal: 9m 21s\tremaining: 7m 44s\n",
            "547:\tlearn: 0.4557610\ttotal: 9m 22s\tremaining: 7m 43s\n",
            "548:\tlearn: 0.4556283\ttotal: 9m 23s\tremaining: 7m 42s\n",
            "549:\tlearn: 0.4555682\ttotal: 9m 24s\tremaining: 7m 41s\n",
            "550:\tlearn: 0.4555056\ttotal: 9m 25s\tremaining: 7m 40s\n",
            "551:\tlearn: 0.4554879\ttotal: 9m 26s\tremaining: 7m 39s\n",
            "552:\tlearn: 0.4554545\ttotal: 9m 27s\tremaining: 7m 38s\n",
            "553:\tlearn: 0.4554092\ttotal: 9m 28s\tremaining: 7m 37s\n",
            "554:\tlearn: 0.4553254\ttotal: 9m 29s\tremaining: 7m 36s\n",
            "555:\tlearn: 0.4553001\ttotal: 9m 30s\tremaining: 7m 35s\n",
            "556:\tlearn: 0.4552555\ttotal: 9m 31s\tremaining: 7m 34s\n",
            "557:\tlearn: 0.4551740\ttotal: 9m 32s\tremaining: 7m 33s\n",
            "558:\tlearn: 0.4551414\ttotal: 9m 33s\tremaining: 7m 32s\n",
            "559:\tlearn: 0.4550886\ttotal: 9m 34s\tremaining: 7m 31s\n",
            "560:\tlearn: 0.4550221\ttotal: 9m 35s\tremaining: 7m 30s\n",
            "561:\tlearn: 0.4549904\ttotal: 9m 36s\tremaining: 7m 29s\n",
            "562:\tlearn: 0.4548537\ttotal: 9m 37s\tremaining: 7m 28s\n",
            "563:\tlearn: 0.4547621\ttotal: 9m 38s\tremaining: 7m 27s\n",
            "564:\tlearn: 0.4546714\ttotal: 9m 39s\tremaining: 7m 26s\n",
            "565:\tlearn: 0.4546356\ttotal: 9m 40s\tremaining: 7m 25s\n",
            "566:\tlearn: 0.4545807\ttotal: 9m 41s\tremaining: 7m 24s\n",
            "567:\tlearn: 0.4545507\ttotal: 9m 42s\tremaining: 7m 23s\n",
            "568:\tlearn: 0.4545131\ttotal: 9m 43s\tremaining: 7m 21s\n",
            "569:\tlearn: 0.4544350\ttotal: 9m 44s\tremaining: 7m 21s\n",
            "570:\tlearn: 0.4543959\ttotal: 9m 45s\tremaining: 7m 20s\n",
            "571:\tlearn: 0.4543264\ttotal: 9m 46s\tremaining: 7m 19s\n",
            "572:\tlearn: 0.4542270\ttotal: 9m 47s\tremaining: 7m 18s\n",
            "573:\tlearn: 0.4541272\ttotal: 9m 48s\tremaining: 7m 17s\n",
            "574:\tlearn: 0.4540687\ttotal: 9m 49s\tremaining: 7m 16s\n",
            "575:\tlearn: 0.4540283\ttotal: 9m 50s\tremaining: 7m 14s\n",
            "576:\tlearn: 0.4538987\ttotal: 9m 52s\tremaining: 7m 14s\n",
            "577:\tlearn: 0.4538012\ttotal: 9m 53s\tremaining: 7m 13s\n",
            "578:\tlearn: 0.4537377\ttotal: 9m 54s\tremaining: 7m 12s\n",
            "579:\tlearn: 0.4536742\ttotal: 9m 55s\tremaining: 7m 10s\n",
            "580:\tlearn: 0.4536508\ttotal: 9m 56s\tremaining: 7m 9s\n",
            "581:\tlearn: 0.4535485\ttotal: 9m 56s\tremaining: 7m 8s\n",
            "582:\tlearn: 0.4535166\ttotal: 9m 57s\tremaining: 7m 7s\n",
            "583:\tlearn: 0.4533525\ttotal: 9m 58s\tremaining: 7m 6s\n",
            "584:\tlearn: 0.4533021\ttotal: 9m 59s\tremaining: 7m 5s\n",
            "585:\tlearn: 0.4531657\ttotal: 10m\tremaining: 7m 4s\n",
            "586:\tlearn: 0.4530300\ttotal: 10m 1s\tremaining: 7m 3s\n",
            "587:\tlearn: 0.4529716\ttotal: 10m 2s\tremaining: 7m 2s\n",
            "588:\tlearn: 0.4529144\ttotal: 10m 3s\tremaining: 7m 1s\n",
            "589:\tlearn: 0.4528784\ttotal: 10m 4s\tremaining: 7m\n",
            "590:\tlearn: 0.4528241\ttotal: 10m 5s\tremaining: 6m 59s\n",
            "591:\tlearn: 0.4527651\ttotal: 10m 7s\tremaining: 6m 58s\n",
            "592:\tlearn: 0.4526334\ttotal: 10m 8s\tremaining: 6m 57s\n",
            "593:\tlearn: 0.4526257\ttotal: 10m 9s\tremaining: 6m 56s\n",
            "594:\tlearn: 0.4525254\ttotal: 10m 10s\tremaining: 6m 55s\n",
            "595:\tlearn: 0.4524139\ttotal: 10m 11s\tremaining: 6m 54s\n",
            "596:\tlearn: 0.4523033\ttotal: 10m 12s\tremaining: 6m 53s\n",
            "597:\tlearn: 0.4522343\ttotal: 10m 13s\tremaining: 6m 52s\n",
            "598:\tlearn: 0.4521755\ttotal: 10m 14s\tremaining: 6m 51s\n",
            "599:\tlearn: 0.4520921\ttotal: 10m 15s\tremaining: 6m 50s\n",
            "600:\tlearn: 0.4519876\ttotal: 10m 16s\tremaining: 6m 49s\n",
            "601:\tlearn: 0.4518651\ttotal: 10m 17s\tremaining: 6m 48s\n",
            "602:\tlearn: 0.4518167\ttotal: 10m 18s\tremaining: 6m 47s\n",
            "603:\tlearn: 0.4517201\ttotal: 10m 19s\tremaining: 6m 46s\n",
            "604:\tlearn: 0.4516934\ttotal: 10m 20s\tremaining: 6m 45s\n",
            "605:\tlearn: 0.4516069\ttotal: 10m 21s\tremaining: 6m 44s\n",
            "606:\tlearn: 0.4515251\ttotal: 10m 22s\tremaining: 6m 43s\n",
            "607:\tlearn: 0.4513820\ttotal: 10m 23s\tremaining: 6m 42s\n",
            "608:\tlearn: 0.4513329\ttotal: 10m 24s\tremaining: 6m 41s\n",
            "609:\tlearn: 0.4512311\ttotal: 10m 26s\tremaining: 6m 40s\n",
            "610:\tlearn: 0.4511476\ttotal: 10m 27s\tremaining: 6m 39s\n",
            "611:\tlearn: 0.4510909\ttotal: 10m 28s\tremaining: 6m 38s\n",
            "612:\tlearn: 0.4510538\ttotal: 10m 29s\tremaining: 6m 37s\n",
            "613:\tlearn: 0.4510252\ttotal: 10m 30s\tremaining: 6m 36s\n",
            "614:\tlearn: 0.4509291\ttotal: 10m 31s\tremaining: 6m 35s\n",
            "615:\tlearn: 0.4508513\ttotal: 10m 32s\tremaining: 6m 34s\n",
            "616:\tlearn: 0.4507623\ttotal: 10m 33s\tremaining: 6m 33s\n",
            "617:\tlearn: 0.4506763\ttotal: 10m 34s\tremaining: 6m 32s\n",
            "618:\tlearn: 0.4506114\ttotal: 10m 35s\tremaining: 6m 31s\n",
            "619:\tlearn: 0.4505238\ttotal: 10m 36s\tremaining: 6m 30s\n",
            "620:\tlearn: 0.4504566\ttotal: 10m 37s\tremaining: 6m 29s\n",
            "621:\tlearn: 0.4504222\ttotal: 10m 38s\tremaining: 6m 27s\n",
            "622:\tlearn: 0.4503710\ttotal: 10m 39s\tremaining: 6m 26s\n",
            "623:\tlearn: 0.4502644\ttotal: 10m 40s\tremaining: 6m 25s\n",
            "624:\tlearn: 0.4501700\ttotal: 10m 41s\tremaining: 6m 24s\n",
            "625:\tlearn: 0.4501362\ttotal: 10m 42s\tremaining: 6m 23s\n",
            "626:\tlearn: 0.4499847\ttotal: 10m 43s\tremaining: 6m 22s\n",
            "627:\tlearn: 0.4499071\ttotal: 10m 44s\tremaining: 6m 21s\n",
            "628:\tlearn: 0.4498763\ttotal: 10m 45s\tremaining: 6m 20s\n",
            "629:\tlearn: 0.4498262\ttotal: 10m 46s\tremaining: 6m 19s\n",
            "630:\tlearn: 0.4497234\ttotal: 10m 47s\tremaining: 6m 18s\n",
            "631:\tlearn: 0.4496816\ttotal: 10m 48s\tremaining: 6m 17s\n",
            "632:\tlearn: 0.4496042\ttotal: 10m 49s\tremaining: 6m 16s\n",
            "633:\tlearn: 0.4494968\ttotal: 10m 50s\tremaining: 6m 15s\n",
            "634:\tlearn: 0.4494389\ttotal: 10m 51s\tremaining: 6m 14s\n",
            "635:\tlearn: 0.4493935\ttotal: 10m 52s\tremaining: 6m 13s\n",
            "636:\tlearn: 0.4493645\ttotal: 10m 53s\tremaining: 6m 12s\n",
            "637:\tlearn: 0.4492549\ttotal: 10m 54s\tremaining: 6m 11s\n",
            "638:\tlearn: 0.4492278\ttotal: 10m 55s\tremaining: 6m 10s\n",
            "639:\tlearn: 0.4491588\ttotal: 10m 56s\tremaining: 6m 9s\n",
            "640:\tlearn: 0.4491000\ttotal: 10m 58s\tremaining: 6m 8s\n",
            "641:\tlearn: 0.4490303\ttotal: 10m 58s\tremaining: 6m 7s\n",
            "642:\tlearn: 0.4488082\ttotal: 10m 59s\tremaining: 6m 6s\n",
            "643:\tlearn: 0.4487835\ttotal: 11m\tremaining: 6m 5s\n",
            "644:\tlearn: 0.4487297\ttotal: 11m 2s\tremaining: 6m 4s\n",
            "645:\tlearn: 0.4486778\ttotal: 11m 3s\tremaining: 6m 3s\n",
            "646:\tlearn: 0.4485619\ttotal: 11m 4s\tremaining: 6m 2s\n",
            "647:\tlearn: 0.4484767\ttotal: 11m 5s\tremaining: 6m 1s\n",
            "648:\tlearn: 0.4484001\ttotal: 11m 6s\tremaining: 6m\n",
            "649:\tlearn: 0.4483478\ttotal: 11m 7s\tremaining: 5m 59s\n",
            "650:\tlearn: 0.4482940\ttotal: 11m 8s\tremaining: 5m 58s\n",
            "651:\tlearn: 0.4481775\ttotal: 11m 9s\tremaining: 5m 57s\n",
            "652:\tlearn: 0.4480653\ttotal: 11m 10s\tremaining: 5m 56s\n",
            "653:\tlearn: 0.4479896\ttotal: 11m 11s\tremaining: 5m 55s\n",
            "654:\tlearn: 0.4479582\ttotal: 11m 12s\tremaining: 5m 54s\n",
            "655:\tlearn: 0.4479253\ttotal: 11m 13s\tremaining: 5m 52s\n",
            "656:\tlearn: 0.4479069\ttotal: 11m 14s\tremaining: 5m 51s\n",
            "657:\tlearn: 0.4478781\ttotal: 11m 15s\tremaining: 5m 50s\n",
            "658:\tlearn: 0.4478053\ttotal: 11m 16s\tremaining: 5m 49s\n",
            "659:\tlearn: 0.4477509\ttotal: 11m 17s\tremaining: 5m 48s\n",
            "660:\tlearn: 0.4477019\ttotal: 11m 18s\tremaining: 5m 47s\n",
            "661:\tlearn: 0.4476528\ttotal: 11m 19s\tremaining: 5m 46s\n",
            "662:\tlearn: 0.4476318\ttotal: 11m 20s\tremaining: 5m 45s\n",
            "663:\tlearn: 0.4475196\ttotal: 11m 21s\tremaining: 5m 44s\n",
            "664:\tlearn: 0.4474404\ttotal: 11m 22s\tremaining: 5m 43s\n",
            "665:\tlearn: 0.4473639\ttotal: 11m 23s\tremaining: 5m 42s\n",
            "666:\tlearn: 0.4472948\ttotal: 11m 24s\tremaining: 5m 41s\n",
            "667:\tlearn: 0.4471957\ttotal: 11m 25s\tremaining: 5m 40s\n",
            "668:\tlearn: 0.4471033\ttotal: 11m 26s\tremaining: 5m 39s\n",
            "669:\tlearn: 0.4470041\ttotal: 11m 27s\tremaining: 5m 38s\n",
            "670:\tlearn: 0.4468898\ttotal: 11m 28s\tremaining: 5m 37s\n",
            "671:\tlearn: 0.4467937\ttotal: 11m 29s\tremaining: 5m 36s\n",
            "672:\tlearn: 0.4467536\ttotal: 11m 30s\tremaining: 5m 35s\n",
            "673:\tlearn: 0.4466866\ttotal: 11m 31s\tremaining: 5m 34s\n",
            "674:\tlearn: 0.4465745\ttotal: 11m 33s\tremaining: 5m 33s\n",
            "675:\tlearn: 0.4465319\ttotal: 11m 34s\tremaining: 5m 32s\n",
            "676:\tlearn: 0.4464185\ttotal: 11m 35s\tremaining: 5m 31s\n",
            "677:\tlearn: 0.4462679\ttotal: 11m 37s\tremaining: 5m 31s\n",
            "678:\tlearn: 0.4461209\ttotal: 11m 38s\tremaining: 5m 30s\n",
            "679:\tlearn: 0.4460722\ttotal: 11m 40s\tremaining: 5m 29s\n",
            "680:\tlearn: 0.4459460\ttotal: 11m 41s\tremaining: 5m 28s\n",
            "681:\tlearn: 0.4458715\ttotal: 11m 42s\tremaining: 5m 27s\n",
            "682:\tlearn: 0.4458497\ttotal: 11m 43s\tremaining: 5m 26s\n",
            "683:\tlearn: 0.4457318\ttotal: 11m 44s\tremaining: 5m 25s\n",
            "684:\tlearn: 0.4456906\ttotal: 11m 45s\tremaining: 5m 24s\n",
            "685:\tlearn: 0.4456177\ttotal: 11m 47s\tremaining: 5m 23s\n",
            "686:\tlearn: 0.4455833\ttotal: 11m 48s\tremaining: 5m 22s\n",
            "687:\tlearn: 0.4455292\ttotal: 11m 49s\tremaining: 5m 21s\n",
            "688:\tlearn: 0.4454896\ttotal: 11m 50s\tremaining: 5m 20s\n",
            "689:\tlearn: 0.4454302\ttotal: 11m 51s\tremaining: 5m 19s\n",
            "690:\tlearn: 0.4453453\ttotal: 11m 52s\tremaining: 5m 18s\n",
            "691:\tlearn: 0.4453127\ttotal: 11m 52s\tremaining: 5m 17s\n",
            "692:\tlearn: 0.4451689\ttotal: 11m 54s\tremaining: 5m 16s\n",
            "693:\tlearn: 0.4451007\ttotal: 11m 55s\tremaining: 5m 15s\n",
            "694:\tlearn: 0.4450168\ttotal: 11m 56s\tremaining: 5m 14s\n",
            "695:\tlearn: 0.4448779\ttotal: 11m 57s\tremaining: 5m 13s\n",
            "696:\tlearn: 0.4448333\ttotal: 11m 58s\tremaining: 5m 12s\n",
            "697:\tlearn: 0.4447221\ttotal: 11m 59s\tremaining: 5m 11s\n",
            "698:\tlearn: 0.4447015\ttotal: 12m\tremaining: 5m 10s\n",
            "699:\tlearn: 0.4445912\ttotal: 12m 1s\tremaining: 5m 9s\n",
            "700:\tlearn: 0.4445390\ttotal: 12m 2s\tremaining: 5m 8s\n",
            "701:\tlearn: 0.4445174\ttotal: 12m 3s\tremaining: 5m 7s\n",
            "702:\tlearn: 0.4444385\ttotal: 12m 4s\tremaining: 5m 6s\n",
            "703:\tlearn: 0.4444210\ttotal: 12m 5s\tremaining: 5m 5s\n",
            "704:\tlearn: 0.4444057\ttotal: 12m 6s\tremaining: 5m 4s\n",
            "705:\tlearn: 0.4442630\ttotal: 12m 7s\tremaining: 5m 3s\n",
            "706:\tlearn: 0.4442062\ttotal: 12m 8s\tremaining: 5m 2s\n",
            "707:\tlearn: 0.4440871\ttotal: 12m 9s\tremaining: 5m 1s\n",
            "708:\tlearn: 0.4440589\ttotal: 12m 10s\tremaining: 4m 59s\n",
            "709:\tlearn: 0.4439612\ttotal: 12m 11s\tremaining: 4m 58s\n",
            "710:\tlearn: 0.4439474\ttotal: 12m 12s\tremaining: 4m 57s\n",
            "711:\tlearn: 0.4439014\ttotal: 12m 13s\tremaining: 4m 56s\n",
            "712:\tlearn: 0.4438453\ttotal: 12m 14s\tremaining: 4m 55s\n",
            "713:\tlearn: 0.4437509\ttotal: 12m 15s\tremaining: 4m 54s\n",
            "714:\tlearn: 0.4437140\ttotal: 12m 16s\tremaining: 4m 53s\n",
            "715:\tlearn: 0.4436282\ttotal: 12m 17s\tremaining: 4m 52s\n",
            "716:\tlearn: 0.4436075\ttotal: 12m 18s\tremaining: 4m 51s\n",
            "717:\tlearn: 0.4435125\ttotal: 12m 19s\tremaining: 4m 50s\n",
            "718:\tlearn: 0.4434799\ttotal: 12m 20s\tremaining: 4m 49s\n",
            "719:\tlearn: 0.4434405\ttotal: 12m 21s\tremaining: 4m 48s\n",
            "720:\tlearn: 0.4433498\ttotal: 12m 22s\tremaining: 4m 47s\n",
            "721:\tlearn: 0.4432917\ttotal: 12m 23s\tremaining: 4m 46s\n",
            "722:\tlearn: 0.4432010\ttotal: 12m 24s\tremaining: 4m 45s\n",
            "723:\tlearn: 0.4431363\ttotal: 12m 26s\tremaining: 4m 44s\n",
            "724:\tlearn: 0.4430292\ttotal: 12m 27s\tremaining: 4m 43s\n",
            "725:\tlearn: 0.4429718\ttotal: 12m 28s\tremaining: 4m 42s\n",
            "726:\tlearn: 0.4428848\ttotal: 12m 29s\tremaining: 4m 41s\n",
            "727:\tlearn: 0.4428484\ttotal: 12m 30s\tremaining: 4m 40s\n",
            "728:\tlearn: 0.4427512\ttotal: 12m 31s\tremaining: 4m 39s\n",
            "729:\tlearn: 0.4427210\ttotal: 12m 32s\tremaining: 4m 38s\n",
            "730:\tlearn: 0.4426683\ttotal: 12m 33s\tremaining: 4m 37s\n",
            "731:\tlearn: 0.4426337\ttotal: 12m 34s\tremaining: 4m 36s\n",
            "732:\tlearn: 0.4426062\ttotal: 12m 35s\tremaining: 4m 35s\n",
            "733:\tlearn: 0.4425071\ttotal: 12m 36s\tremaining: 4m 34s\n",
            "734:\tlearn: 0.4424404\ttotal: 12m 37s\tremaining: 4m 33s\n",
            "735:\tlearn: 0.4423000\ttotal: 12m 38s\tremaining: 4m 32s\n",
            "736:\tlearn: 0.4422293\ttotal: 12m 39s\tremaining: 4m 31s\n",
            "737:\tlearn: 0.4421183\ttotal: 12m 40s\tremaining: 4m 29s\n",
            "738:\tlearn: 0.4420398\ttotal: 12m 41s\tremaining: 4m 28s\n",
            "739:\tlearn: 0.4419569\ttotal: 12m 42s\tremaining: 4m 27s\n",
            "740:\tlearn: 0.4418633\ttotal: 12m 43s\tremaining: 4m 26s\n",
            "741:\tlearn: 0.4417901\ttotal: 12m 44s\tremaining: 4m 25s\n",
            "742:\tlearn: 0.4416947\ttotal: 12m 45s\tremaining: 4m 24s\n",
            "743:\tlearn: 0.4416518\ttotal: 12m 46s\tremaining: 4m 23s\n",
            "744:\tlearn: 0.4415484\ttotal: 12m 47s\tremaining: 4m 22s\n",
            "745:\tlearn: 0.4414663\ttotal: 12m 48s\tremaining: 4m 21s\n",
            "746:\tlearn: 0.4413711\ttotal: 12m 49s\tremaining: 4m 20s\n",
            "747:\tlearn: 0.4412193\ttotal: 12m 50s\tremaining: 4m 19s\n",
            "748:\tlearn: 0.4411334\ttotal: 12m 51s\tremaining: 4m 18s\n",
            "749:\tlearn: 0.4410158\ttotal: 12m 52s\tremaining: 4m 17s\n",
            "750:\tlearn: 0.4409786\ttotal: 12m 53s\tremaining: 4m 16s\n",
            "751:\tlearn: 0.4409419\ttotal: 12m 55s\tremaining: 4m 15s\n",
            "752:\tlearn: 0.4408295\ttotal: 12m 55s\tremaining: 4m 14s\n",
            "753:\tlearn: 0.4408127\ttotal: 12m 57s\tremaining: 4m 13s\n",
            "754:\tlearn: 0.4407767\ttotal: 12m 58s\tremaining: 4m 12s\n",
            "755:\tlearn: 0.4407564\ttotal: 12m 59s\tremaining: 4m 11s\n",
            "756:\tlearn: 0.4406645\ttotal: 13m\tremaining: 4m 10s\n",
            "757:\tlearn: 0.4405721\ttotal: 13m 1s\tremaining: 4m 9s\n",
            "758:\tlearn: 0.4405414\ttotal: 13m 2s\tremaining: 4m 8s\n",
            "759:\tlearn: 0.4404806\ttotal: 13m 3s\tremaining: 4m 7s\n",
            "760:\tlearn: 0.4404397\ttotal: 13m 4s\tremaining: 4m 6s\n",
            "761:\tlearn: 0.4403270\ttotal: 13m 5s\tremaining: 4m 5s\n",
            "762:\tlearn: 0.4402384\ttotal: 13m 6s\tremaining: 4m 4s\n",
            "763:\tlearn: 0.4402067\ttotal: 13m 7s\tremaining: 4m 3s\n",
            "764:\tlearn: 0.4401488\ttotal: 13m 8s\tremaining: 4m 2s\n",
            "765:\tlearn: 0.4400766\ttotal: 13m 9s\tremaining: 4m 1s\n",
            "766:\tlearn: 0.4399921\ttotal: 13m 10s\tremaining: 4m\n",
            "767:\tlearn: 0.4399313\ttotal: 13m 11s\tremaining: 3m 59s\n",
            "768:\tlearn: 0.4398579\ttotal: 13m 12s\tremaining: 3m 58s\n",
            "769:\tlearn: 0.4398469\ttotal: 13m 13s\tremaining: 3m 57s\n",
            "770:\tlearn: 0.4397896\ttotal: 13m 14s\tremaining: 3m 55s\n",
            "771:\tlearn: 0.4397617\ttotal: 13m 15s\tremaining: 3m 54s\n",
            "772:\tlearn: 0.4397008\ttotal: 13m 16s\tremaining: 3m 53s\n",
            "773:\tlearn: 0.4395832\ttotal: 13m 17s\tremaining: 3m 52s\n",
            "774:\tlearn: 0.4395101\ttotal: 13m 18s\tremaining: 3m 51s\n",
            "775:\tlearn: 0.4394356\ttotal: 13m 19s\tremaining: 3m 50s\n",
            "776:\tlearn: 0.4394105\ttotal: 13m 20s\tremaining: 3m 49s\n",
            "777:\tlearn: 0.4393282\ttotal: 13m 21s\tremaining: 3m 48s\n",
            "778:\tlearn: 0.4392284\ttotal: 13m 22s\tremaining: 3m 47s\n",
            "779:\tlearn: 0.4391392\ttotal: 13m 23s\tremaining: 3m 46s\n",
            "780:\tlearn: 0.4390934\ttotal: 13m 24s\tremaining: 3m 45s\n",
            "781:\tlearn: 0.4390052\ttotal: 13m 25s\tremaining: 3m 44s\n",
            "782:\tlearn: 0.4389351\ttotal: 13m 26s\tremaining: 3m 43s\n",
            "783:\tlearn: 0.4388921\ttotal: 13m 28s\tremaining: 3m 42s\n",
            "784:\tlearn: 0.4388166\ttotal: 13m 29s\tremaining: 3m 41s\n",
            "785:\tlearn: 0.4387523\ttotal: 13m 30s\tremaining: 3m 40s\n",
            "786:\tlearn: 0.4386725\ttotal: 13m 31s\tremaining: 3m 39s\n",
            "787:\tlearn: 0.4386555\ttotal: 13m 32s\tremaining: 3m 38s\n",
            "788:\tlearn: 0.4386094\ttotal: 13m 33s\tremaining: 3m 37s\n",
            "789:\tlearn: 0.4385486\ttotal: 13m 34s\tremaining: 3m 36s\n",
            "790:\tlearn: 0.4384877\ttotal: 13m 35s\tremaining: 3m 35s\n",
            "791:\tlearn: 0.4383716\ttotal: 13m 36s\tremaining: 3m 34s\n",
            "792:\tlearn: 0.4383522\ttotal: 13m 37s\tremaining: 3m 33s\n",
            "793:\tlearn: 0.4382812\ttotal: 13m 38s\tremaining: 3m 32s\n",
            "794:\tlearn: 0.4382465\ttotal: 13m 39s\tremaining: 3m 31s\n",
            "795:\tlearn: 0.4381628\ttotal: 13m 40s\tremaining: 3m 30s\n",
            "796:\tlearn: 0.4381316\ttotal: 13m 41s\tremaining: 3m 29s\n",
            "797:\tlearn: 0.4379933\ttotal: 13m 42s\tremaining: 3m 28s\n",
            "798:\tlearn: 0.4378816\ttotal: 13m 43s\tremaining: 3m 27s\n",
            "799:\tlearn: 0.4378304\ttotal: 13m 44s\tremaining: 3m 26s\n",
            "800:\tlearn: 0.4376945\ttotal: 13m 45s\tremaining: 3m 25s\n",
            "801:\tlearn: 0.4376629\ttotal: 13m 46s\tremaining: 3m 24s\n",
            "802:\tlearn: 0.4375602\ttotal: 13m 48s\tremaining: 3m 23s\n",
            "803:\tlearn: 0.4374595\ttotal: 13m 49s\tremaining: 3m 22s\n",
            "804:\tlearn: 0.4373344\ttotal: 13m 50s\tremaining: 3m 21s\n",
            "805:\tlearn: 0.4373109\ttotal: 13m 51s\tremaining: 3m 20s\n",
            "806:\tlearn: 0.4372845\ttotal: 13m 52s\tremaining: 3m 19s\n",
            "807:\tlearn: 0.4372062\ttotal: 13m 53s\tremaining: 3m 17s\n",
            "808:\tlearn: 0.4371235\ttotal: 13m 54s\tremaining: 3m 16s\n",
            "809:\tlearn: 0.4370861\ttotal: 13m 55s\tremaining: 3m 15s\n",
            "810:\tlearn: 0.4370620\ttotal: 13m 56s\tremaining: 3m 14s\n",
            "811:\tlearn: 0.4370061\ttotal: 13m 57s\tremaining: 3m 13s\n",
            "812:\tlearn: 0.4369609\ttotal: 13m 58s\tremaining: 3m 12s\n",
            "813:\tlearn: 0.4368577\ttotal: 13m 59s\tremaining: 3m 11s\n",
            "814:\tlearn: 0.4367926\ttotal: 14m\tremaining: 3m 10s\n",
            "815:\tlearn: 0.4367555\ttotal: 14m 1s\tremaining: 3m 9s\n",
            "816:\tlearn: 0.4366648\ttotal: 14m 2s\tremaining: 3m 8s\n",
            "817:\tlearn: 0.4366193\ttotal: 14m 3s\tremaining: 3m 7s\n",
            "818:\tlearn: 0.4365919\ttotal: 14m 4s\tremaining: 3m 6s\n",
            "819:\tlearn: 0.4365093\ttotal: 14m 5s\tremaining: 3m 5s\n",
            "820:\tlearn: 0.4364579\ttotal: 14m 6s\tremaining: 3m 4s\n",
            "821:\tlearn: 0.4363879\ttotal: 14m 7s\tremaining: 3m 3s\n",
            "822:\tlearn: 0.4363773\ttotal: 14m 8s\tremaining: 3m 2s\n",
            "823:\tlearn: 0.4363146\ttotal: 14m 9s\tremaining: 3m 1s\n",
            "824:\tlearn: 0.4362382\ttotal: 14m 10s\tremaining: 3m\n",
            "825:\tlearn: 0.4361778\ttotal: 14m 11s\tremaining: 2m 59s\n",
            "826:\tlearn: 0.4360948\ttotal: 14m 12s\tremaining: 2m 58s\n",
            "827:\tlearn: 0.4360620\ttotal: 14m 13s\tremaining: 2m 57s\n",
            "828:\tlearn: 0.4360073\ttotal: 14m 14s\tremaining: 2m 56s\n",
            "829:\tlearn: 0.4359161\ttotal: 14m 15s\tremaining: 2m 55s\n",
            "830:\tlearn: 0.4358551\ttotal: 14m 16s\tremaining: 2m 54s\n",
            "831:\tlearn: 0.4357774\ttotal: 14m 17s\tremaining: 2m 53s\n",
            "832:\tlearn: 0.4357282\ttotal: 14m 18s\tremaining: 2m 52s\n",
            "833:\tlearn: 0.4356414\ttotal: 14m 19s\tremaining: 2m 51s\n",
            "834:\tlearn: 0.4356014\ttotal: 14m 20s\tremaining: 2m 50s\n",
            "835:\tlearn: 0.4355489\ttotal: 14m 21s\tremaining: 2m 49s\n",
            "836:\tlearn: 0.4354397\ttotal: 14m 22s\tremaining: 2m 48s\n",
            "837:\tlearn: 0.4354063\ttotal: 14m 23s\tremaining: 2m 46s\n",
            "838:\tlearn: 0.4352955\ttotal: 14m 24s\tremaining: 2m 45s\n",
            "839:\tlearn: 0.4351396\ttotal: 14m 25s\tremaining: 2m 44s\n",
            "840:\tlearn: 0.4350870\ttotal: 14m 27s\tremaining: 2m 43s\n",
            "841:\tlearn: 0.4350144\ttotal: 14m 28s\tremaining: 2m 42s\n",
            "842:\tlearn: 0.4349941\ttotal: 14m 29s\tremaining: 2m 41s\n",
            "843:\tlearn: 0.4348903\ttotal: 14m 29s\tremaining: 2m 40s\n",
            "844:\tlearn: 0.4348412\ttotal: 14m 30s\tremaining: 2m 39s\n",
            "845:\tlearn: 0.4347834\ttotal: 14m 31s\tremaining: 2m 38s\n",
            "846:\tlearn: 0.4346975\ttotal: 14m 33s\tremaining: 2m 37s\n",
            "847:\tlearn: 0.4346083\ttotal: 14m 34s\tremaining: 2m 36s\n",
            "848:\tlearn: 0.4345652\ttotal: 14m 35s\tremaining: 2m 35s\n",
            "849:\tlearn: 0.4345113\ttotal: 14m 36s\tremaining: 2m 34s\n",
            "850:\tlearn: 0.4344670\ttotal: 14m 37s\tremaining: 2m 33s\n",
            "851:\tlearn: 0.4344331\ttotal: 14m 38s\tremaining: 2m 32s\n",
            "852:\tlearn: 0.4343470\ttotal: 14m 39s\tremaining: 2m 31s\n",
            "853:\tlearn: 0.4342656\ttotal: 14m 40s\tremaining: 2m 30s\n",
            "854:\tlearn: 0.4342008\ttotal: 14m 41s\tremaining: 2m 29s\n",
            "855:\tlearn: 0.4340798\ttotal: 14m 42s\tremaining: 2m 28s\n",
            "856:\tlearn: 0.4339777\ttotal: 14m 43s\tremaining: 2m 27s\n",
            "857:\tlearn: 0.4339324\ttotal: 14m 44s\tremaining: 2m 26s\n",
            "858:\tlearn: 0.4338839\ttotal: 14m 45s\tremaining: 2m 25s\n",
            "859:\tlearn: 0.4338079\ttotal: 14m 46s\tremaining: 2m 24s\n",
            "860:\tlearn: 0.4337163\ttotal: 14m 47s\tremaining: 2m 23s\n",
            "861:\tlearn: 0.4336475\ttotal: 14m 48s\tremaining: 2m 22s\n",
            "862:\tlearn: 0.4336061\ttotal: 14m 49s\tremaining: 2m 21s\n",
            "863:\tlearn: 0.4335418\ttotal: 14m 50s\tremaining: 2m 20s\n",
            "864:\tlearn: 0.4334454\ttotal: 14m 51s\tremaining: 2m 19s\n",
            "865:\tlearn: 0.4333855\ttotal: 14m 52s\tremaining: 2m 18s\n",
            "866:\tlearn: 0.4333296\ttotal: 14m 53s\tremaining: 2m 17s\n",
            "867:\tlearn: 0.4332796\ttotal: 14m 54s\tremaining: 2m 15s\n",
            "868:\tlearn: 0.4331906\ttotal: 14m 55s\tremaining: 2m 14s\n",
            "869:\tlearn: 0.4331275\ttotal: 14m 56s\tremaining: 2m 13s\n",
            "870:\tlearn: 0.4330542\ttotal: 14m 57s\tremaining: 2m 12s\n",
            "871:\tlearn: 0.4329994\ttotal: 14m 58s\tremaining: 2m 11s\n",
            "872:\tlearn: 0.4329284\ttotal: 14m 59s\tremaining: 2m 10s\n",
            "873:\tlearn: 0.4328615\ttotal: 15m\tremaining: 2m 9s\n",
            "874:\tlearn: 0.4327422\ttotal: 15m 1s\tremaining: 2m 8s\n",
            "875:\tlearn: 0.4327201\ttotal: 15m 2s\tremaining: 2m 7s\n",
            "876:\tlearn: 0.4326966\ttotal: 15m 3s\tremaining: 2m 6s\n",
            "877:\tlearn: 0.4326409\ttotal: 15m 4s\tremaining: 2m 5s\n",
            "878:\tlearn: 0.4326167\ttotal: 15m 5s\tremaining: 2m 4s\n",
            "879:\tlearn: 0.4325504\ttotal: 15m 6s\tremaining: 2m 3s\n",
            "880:\tlearn: 0.4324482\ttotal: 15m 7s\tremaining: 2m 2s\n",
            "881:\tlearn: 0.4323877\ttotal: 15m 8s\tremaining: 2m 1s\n",
            "882:\tlearn: 0.4323137\ttotal: 15m 9s\tremaining: 2m\n",
            "883:\tlearn: 0.4322726\ttotal: 15m 10s\tremaining: 1m 59s\n",
            "884:\tlearn: 0.4321981\ttotal: 15m 11s\tremaining: 1m 58s\n",
            "885:\tlearn: 0.4321433\ttotal: 15m 12s\tremaining: 1m 57s\n",
            "886:\tlearn: 0.4320859\ttotal: 15m 13s\tremaining: 1m 56s\n",
            "887:\tlearn: 0.4320570\ttotal: 15m 14s\tremaining: 1m 55s\n",
            "888:\tlearn: 0.4320184\ttotal: 15m 15s\tremaining: 1m 54s\n",
            "889:\tlearn: 0.4319846\ttotal: 15m 16s\tremaining: 1m 53s\n",
            "890:\tlearn: 0.4319341\ttotal: 15m 17s\tremaining: 1m 52s\n",
            "891:\tlearn: 0.4318384\ttotal: 15m 19s\tremaining: 1m 51s\n",
            "892:\tlearn: 0.4317582\ttotal: 15m 20s\tremaining: 1m 50s\n",
            "893:\tlearn: 0.4317289\ttotal: 15m 20s\tremaining: 1m 49s\n",
            "894:\tlearn: 0.4316960\ttotal: 15m 21s\tremaining: 1m 48s\n",
            "895:\tlearn: 0.4316039\ttotal: 15m 23s\tremaining: 1m 47s\n",
            "896:\tlearn: 0.4315112\ttotal: 15m 24s\tremaining: 1m 46s\n",
            "897:\tlearn: 0.4314466\ttotal: 15m 25s\tremaining: 1m 45s\n",
            "898:\tlearn: 0.4313713\ttotal: 15m 26s\tremaining: 1m 44s\n",
            "899:\tlearn: 0.4313322\ttotal: 15m 27s\tremaining: 1m 43s\n",
            "900:\tlearn: 0.4312668\ttotal: 15m 28s\tremaining: 1m 42s\n",
            "901:\tlearn: 0.4311580\ttotal: 15m 29s\tremaining: 1m 40s\n",
            "902:\tlearn: 0.4310443\ttotal: 15m 30s\tremaining: 1m 39s\n",
            "903:\tlearn: 0.4309631\ttotal: 15m 31s\tremaining: 1m 38s\n",
            "904:\tlearn: 0.4308995\ttotal: 15m 32s\tremaining: 1m 37s\n",
            "905:\tlearn: 0.4308818\ttotal: 15m 33s\tremaining: 1m 36s\n",
            "906:\tlearn: 0.4308072\ttotal: 15m 34s\tremaining: 1m 35s\n",
            "907:\tlearn: 0.4307543\ttotal: 15m 35s\tremaining: 1m 34s\n",
            "908:\tlearn: 0.4306719\ttotal: 15m 36s\tremaining: 1m 33s\n",
            "909:\tlearn: 0.4306491\ttotal: 15m 37s\tremaining: 1m 32s\n",
            "910:\tlearn: 0.4306144\ttotal: 15m 38s\tremaining: 1m 31s\n",
            "911:\tlearn: 0.4305200\ttotal: 15m 39s\tremaining: 1m 30s\n",
            "912:\tlearn: 0.4304617\ttotal: 15m 40s\tremaining: 1m 29s\n",
            "913:\tlearn: 0.4304025\ttotal: 15m 41s\tremaining: 1m 28s\n",
            "914:\tlearn: 0.4303455\ttotal: 15m 42s\tremaining: 1m 27s\n",
            "915:\tlearn: 0.4302836\ttotal: 15m 43s\tremaining: 1m 26s\n",
            "916:\tlearn: 0.4302322\ttotal: 15m 44s\tremaining: 1m 25s\n",
            "917:\tlearn: 0.4301971\ttotal: 15m 45s\tremaining: 1m 24s\n",
            "918:\tlearn: 0.4301761\ttotal: 15m 46s\tremaining: 1m 23s\n",
            "919:\tlearn: 0.4300976\ttotal: 15m 47s\tremaining: 1m 22s\n",
            "920:\tlearn: 0.4300764\ttotal: 15m 48s\tremaining: 1m 21s\n",
            "921:\tlearn: 0.4300236\ttotal: 15m 49s\tremaining: 1m 20s\n",
            "922:\tlearn: 0.4299333\ttotal: 15m 50s\tremaining: 1m 19s\n",
            "923:\tlearn: 0.4298739\ttotal: 15m 51s\tremaining: 1m 18s\n",
            "924:\tlearn: 0.4298146\ttotal: 15m 52s\tremaining: 1m 17s\n",
            "925:\tlearn: 0.4297670\ttotal: 15m 53s\tremaining: 1m 16s\n",
            "926:\tlearn: 0.4296943\ttotal: 15m 54s\tremaining: 1m 15s\n",
            "927:\tlearn: 0.4296192\ttotal: 15m 55s\tremaining: 1m 14s\n",
            "928:\tlearn: 0.4295695\ttotal: 15m 56s\tremaining: 1m 13s\n",
            "929:\tlearn: 0.4294978\ttotal: 15m 57s\tremaining: 1m 12s\n",
            "930:\tlearn: 0.4293757\ttotal: 15m 58s\tremaining: 1m 11s\n",
            "931:\tlearn: 0.4293104\ttotal: 15m 59s\tremaining: 1m 10s\n",
            "932:\tlearn: 0.4292718\ttotal: 16m\tremaining: 1m 8s\n",
            "933:\tlearn: 0.4292390\ttotal: 16m 1s\tremaining: 1m 7s\n",
            "934:\tlearn: 0.4291649\ttotal: 16m 2s\tremaining: 1m 6s\n",
            "935:\tlearn: 0.4290755\ttotal: 16m 3s\tremaining: 1m 5s\n",
            "936:\tlearn: 0.4290258\ttotal: 16m 4s\tremaining: 1m 4s\n",
            "937:\tlearn: 0.4289804\ttotal: 16m 5s\tremaining: 1m 3s\n",
            "938:\tlearn: 0.4288979\ttotal: 16m 6s\tremaining: 1m 2s\n",
            "939:\tlearn: 0.4287728\ttotal: 16m 7s\tremaining: 1m 1s\n",
            "940:\tlearn: 0.4287055\ttotal: 16m 8s\tremaining: 1m\n",
            "941:\tlearn: 0.4286803\ttotal: 16m 9s\tremaining: 59.7s\n",
            "942:\tlearn: 0.4286037\ttotal: 16m 11s\tremaining: 58.7s\n",
            "943:\tlearn: 0.4285357\ttotal: 16m 12s\tremaining: 57.7s\n",
            "944:\tlearn: 0.4285285\ttotal: 16m 13s\tremaining: 56.6s\n",
            "945:\tlearn: 0.4284841\ttotal: 16m 14s\tremaining: 55.6s\n",
            "946:\tlearn: 0.4284525\ttotal: 16m 15s\tremaining: 54.6s\n",
            "947:\tlearn: 0.4283541\ttotal: 16m 16s\tremaining: 53.5s\n",
            "948:\tlearn: 0.4282791\ttotal: 16m 17s\tremaining: 52.5s\n",
            "949:\tlearn: 0.4282565\ttotal: 16m 18s\tremaining: 51.5s\n",
            "950:\tlearn: 0.4282096\ttotal: 16m 19s\tremaining: 50.5s\n",
            "951:\tlearn: 0.4281471\ttotal: 16m 20s\tremaining: 49.4s\n",
            "952:\tlearn: 0.4280494\ttotal: 16m 21s\tremaining: 48.4s\n",
            "953:\tlearn: 0.4279360\ttotal: 16m 22s\tremaining: 47.4s\n",
            "954:\tlearn: 0.4279057\ttotal: 16m 23s\tremaining: 46.3s\n",
            "955:\tlearn: 0.4278570\ttotal: 16m 24s\tremaining: 45.3s\n",
            "956:\tlearn: 0.4277769\ttotal: 16m 25s\tremaining: 44.3s\n",
            "957:\tlearn: 0.4276838\ttotal: 16m 26s\tremaining: 43.3s\n",
            "958:\tlearn: 0.4276397\ttotal: 16m 27s\tremaining: 42.2s\n",
            "959:\tlearn: 0.4276226\ttotal: 16m 28s\tremaining: 41.2s\n",
            "960:\tlearn: 0.4275335\ttotal: 16m 29s\tremaining: 40.2s\n",
            "961:\tlearn: 0.4274722\ttotal: 16m 30s\tremaining: 39.1s\n",
            "962:\tlearn: 0.4274072\ttotal: 16m 32s\tremaining: 38.1s\n",
            "963:\tlearn: 0.4273314\ttotal: 16m 33s\tremaining: 37.1s\n",
            "964:\tlearn: 0.4273105\ttotal: 16m 33s\tremaining: 36s\n",
            "965:\tlearn: 0.4271604\ttotal: 16m 34s\tremaining: 35s\n",
            "966:\tlearn: 0.4271097\ttotal: 16m 35s\tremaining: 34s\n",
            "967:\tlearn: 0.4270715\ttotal: 16m 36s\tremaining: 33s\n",
            "968:\tlearn: 0.4270413\ttotal: 16m 37s\tremaining: 31.9s\n",
            "969:\tlearn: 0.4269968\ttotal: 16m 38s\tremaining: 30.9s\n",
            "970:\tlearn: 0.4269013\ttotal: 16m 39s\tremaining: 29.9s\n",
            "971:\tlearn: 0.4268144\ttotal: 16m 40s\tremaining: 28.8s\n",
            "972:\tlearn: 0.4267269\ttotal: 16m 41s\tremaining: 27.8s\n",
            "973:\tlearn: 0.4266443\ttotal: 16m 42s\tremaining: 26.8s\n",
            "974:\tlearn: 0.4266047\ttotal: 16m 43s\tremaining: 25.7s\n",
            "975:\tlearn: 0.4265653\ttotal: 16m 45s\tremaining: 24.7s\n",
            "976:\tlearn: 0.4265303\ttotal: 16m 45s\tremaining: 23.7s\n",
            "977:\tlearn: 0.4264985\ttotal: 16m 46s\tremaining: 22.6s\n",
            "978:\tlearn: 0.4263921\ttotal: 16m 47s\tremaining: 21.6s\n",
            "979:\tlearn: 0.4263108\ttotal: 16m 48s\tremaining: 20.6s\n",
            "980:\tlearn: 0.4262408\ttotal: 16m 49s\tremaining: 19.6s\n",
            "981:\tlearn: 0.4261684\ttotal: 16m 51s\tremaining: 18.5s\n",
            "982:\tlearn: 0.4261285\ttotal: 16m 52s\tremaining: 17.5s\n",
            "983:\tlearn: 0.4260482\ttotal: 16m 53s\tremaining: 16.5s\n",
            "984:\tlearn: 0.4259876\ttotal: 16m 54s\tremaining: 15.4s\n",
            "985:\tlearn: 0.4259586\ttotal: 16m 55s\tremaining: 14.4s\n",
            "986:\tlearn: 0.4259033\ttotal: 16m 56s\tremaining: 13.4s\n",
            "987:\tlearn: 0.4258702\ttotal: 16m 57s\tremaining: 12.4s\n",
            "988:\tlearn: 0.4258367\ttotal: 16m 58s\tremaining: 11.3s\n",
            "989:\tlearn: 0.4257451\ttotal: 16m 59s\tremaining: 10.3s\n",
            "990:\tlearn: 0.4256568\ttotal: 17m\tremaining: 9.27s\n",
            "991:\tlearn: 0.4255747\ttotal: 17m 1s\tremaining: 8.24s\n",
            "992:\tlearn: 0.4255273\ttotal: 17m 2s\tremaining: 7.21s\n",
            "993:\tlearn: 0.4253859\ttotal: 17m 3s\tremaining: 6.18s\n",
            "994:\tlearn: 0.4253261\ttotal: 17m 4s\tremaining: 5.15s\n",
            "995:\tlearn: 0.4252610\ttotal: 17m 5s\tremaining: 4.12s\n",
            "996:\tlearn: 0.4251875\ttotal: 17m 6s\tremaining: 3.09s\n",
            "997:\tlearn: 0.4251517\ttotal: 17m 7s\tremaining: 2.06s\n",
            "998:\tlearn: 0.4250980\ttotal: 17m 8s\tremaining: 1.03s\n",
            "999:\tlearn: 0.4250721\ttotal: 17m 9s\tremaining: 0us\n"
          ]
        }
      ]
    },
    {
      "cell_type": "markdown",
      "metadata": {
        "id": "H9H7IXgeSsFe"
      },
      "source": [
        "# **Other Modelling Approaches**"
      ]
    },
    {
      "cell_type": "code",
      "metadata": {
        "id": "pVABSsp2JwaN"
      },
      "source": [
        "#Function to compute accuracy, f1 score, precision, recall and confusion matrix\n",
        "\n",
        "def compute_metrics(pred,ground_labels):\n",
        "    labels_all = ground_labels\n",
        "    preds_all = list(pred)\n",
        "    \n",
        "    precision, recall, f1, _ = precision_recall_fscore_support(labels_all, preds_all)\n",
        "    acc = accuracy_score(labels_all, preds_all)\n",
        "    confusion_mat = confusion_matrix(labels_all, preds_all)\n",
        "    # tn, fp, fn, tp = confusiton_mat.ravel()\n",
        "    out_dict = {\n",
        "        'accuracy': acc,\n",
        "        'f1': f1,\n",
        "        'precision': precision,\n",
        "        'recall': recall,\n",
        "        'confusiton_mat': confusion_mat\n",
        "    }\n",
        "    return out_dict"
      ],
      "execution_count": 20,
      "outputs": []
    },
    {
      "cell_type": "code",
      "metadata": {
        "id": "Z_OaeGgLH9k_"
      },
      "source": [
        "X_train, X_val, y_train, y_val = train_test_split(X_encoded, Y, test_size=0.3, random_state=142,stratify=Y)"
      ],
      "execution_count": 21,
      "outputs": []
    },
    {
      "cell_type": "markdown",
      "metadata": {
        "id": "YELdIobmByqL"
      },
      "source": [
        "**Random Forest Classifier**\n",
        "\n",
        "---\n",
        "\n"
      ]
    },
    {
      "cell_type": "code",
      "metadata": {
        "colab": {
          "base_uri": "https://localhost:8080/"
        },
        "id": "52Y7Nt-vH9lA",
        "outputId": "72a414cc-6809-4ebe-9bf3-76d1f13d09b5"
      },
      "source": [
        "clf=RandomForestClassifier(n_estimators=100,max_features='auto',random_state=0,max_depth=14)\n",
        "rfecv = RFECV(estimator=clf, step=1, cv=StratifiedKFold(),scoring='accuracy')\n",
        "rfecv.fit(X_train, y_train.ravel())\n",
        "\n",
        "predicted_y = rfecv.predict(X_val)\n",
        "result = compute_metrics(predicted_y,y_val)\n",
        "\n",
        "print(result['accuracy'])"
      ],
      "execution_count": 22,
      "outputs": [
        {
          "output_type": "stream",
          "name": "stderr",
          "text": [
            "/usr/local/lib/python3.7/dist-packages/sklearn/utils/validation.py:760: DataConversionWarning: A column-vector y was passed when a 1d array was expected. Please change the shape of y to (n_samples, ), for example using ravel().\n",
            "  y = column_or_1d(y, warn=True)\n"
          ]
        },
        {
          "output_type": "stream",
          "name": "stdout",
          "text": [
            "0.7919191919191919\n"
          ]
        }
      ]
    },
    {
      "cell_type": "markdown",
      "metadata": {
        "id": "Dscmt_nUB3aQ"
      },
      "source": [
        "**Ada Boost Classifier**\n",
        "\n",
        "---\n",
        "\n"
      ]
    },
    {
      "cell_type": "code",
      "metadata": {
        "colab": {
          "base_uri": "https://localhost:8080/"
        },
        "id": "pRD9qwbxystP",
        "outputId": "0cef2278-7da6-4b46-ae52-d0ec630c90d5"
      },
      "source": [
        "ada_clf = AdaBoostClassifier(DecisionTreeClassifier(max_depth=14), n_estimators=100,algorithm=\"SAMME.R\", learning_rate=0.0001)\n",
        "ada_clf.fit(X_train,y_train.ravel())\n",
        "\n",
        "predicted_y = ada_clf.predict(X_val)\n",
        "result = compute_metrics(predicted_y,y_val)\n",
        "\n",
        "print(result['accuracy'])"
      ],
      "execution_count": 23,
      "outputs": [
        {
          "output_type": "stream",
          "name": "stderr",
          "text": [
            "/usr/local/lib/python3.7/dist-packages/sklearn/utils/validation.py:760: DataConversionWarning: A column-vector y was passed when a 1d array was expected. Please change the shape of y to (n_samples, ), for example using ravel().\n",
            "  y = column_or_1d(y, warn=True)\n"
          ]
        },
        {
          "output_type": "stream",
          "name": "stdout",
          "text": [
            "0.7605499438832772\n"
          ]
        }
      ]
    },
    {
      "cell_type": "markdown",
      "metadata": {
        "id": "1Nd0CmanCl5B"
      },
      "source": [
        "**Other Classifiers used**\n",
        "\n",
        "---\n",
        "\n"
      ]
    },
    {
      "cell_type": "code",
      "metadata": {
        "id": "l4FILRQfkRc9"
      },
      "source": [
        "classifiers=[['Decision Tree Classification :',DecisionTreeClassifier()],\n",
        "       ['Gradient Boosting Classification :', GradientBoostingClassifier()],\n",
        "       ['Extra Tree Classification :', ExtraTreesClassifier()],\n",
        "       ['Support Vector Classification :',SVC()]]\n",
        "cla_pred=[]"
      ],
      "execution_count": 24,
      "outputs": []
    },
    {
      "cell_type": "code",
      "metadata": {
        "colab": {
          "base_uri": "https://localhost:8080/"
        },
        "id": "sa-AuCqikdlr",
        "outputId": "cb1a1662-8316-4cac-d921-24e54ecfa74a"
      },
      "source": [
        "for name,model1 in classifiers:\n",
        "    print(\"-----------\"+name+\"-------------\")\n",
        "    model1.fit(X_train,y_train.values.ravel())\n",
        "    predicted_y = model1.predict(X_val)\n",
        "    score=compute_metrics(predicted_y,y_val)\n",
        "    cla_pred.append(score)\n",
        "    print()"
      ],
      "execution_count": 25,
      "outputs": [
        {
          "output_type": "stream",
          "name": "stdout",
          "text": [
            "-----------Logistic Regression :-------------\n"
          ]
        },
        {
          "output_type": "stream",
          "name": "stderr",
          "text": [
            "/usr/local/lib/python3.7/dist-packages/sklearn/linear_model/_logistic.py:940: ConvergenceWarning: lbfgs failed to converge (status=1):\n",
            "STOP: TOTAL NO. of ITERATIONS REACHED LIMIT.\n",
            "\n",
            "Increase the number of iterations (max_iter) or scale the data as shown in:\n",
            "    https://scikit-learn.org/stable/modules/preprocessing.html\n",
            "Please also refer to the documentation for alternative solver options:\n",
            "    https://scikit-learn.org/stable/modules/linear_model.html#logistic-regression\n",
            "  extra_warning_msg=_LOGISTIC_SOLVER_CONVERGENCE_MSG)\n",
            "/usr/local/lib/python3.7/dist-packages/sklearn/metrics/_classification.py:1272: UndefinedMetricWarning: Precision and F-score are ill-defined and being set to 0.0 in labels with no predicted samples. Use `zero_division` parameter to control this behavior.\n",
            "  _warn_prf(average, modifier, msg_start, len(result))\n"
          ]
        },
        {
          "output_type": "stream",
          "name": "stdout",
          "text": [
            "\n",
            "-----------Decision Tree Classification :-------------\n",
            "\n",
            "-----------Gradient Boosting Classification :-------------\n",
            "\n",
            "-----------Extra Tree Classification :-------------\n",
            "\n",
            "-----------K-Neighbors Classification :-------------\n",
            "\n",
            "-----------Support Vector Classification :-------------\n"
          ]
        },
        {
          "output_type": "stream",
          "name": "stderr",
          "text": [
            "/usr/local/lib/python3.7/dist-packages/sklearn/metrics/_classification.py:1272: UndefinedMetricWarning: Precision and F-score are ill-defined and being set to 0.0 in labels with no predicted samples. Use `zero_division` parameter to control this behavior.\n",
            "  _warn_prf(average, modifier, msg_start, len(result))\n"
          ]
        },
        {
          "output_type": "stream",
          "name": "stdout",
          "text": [
            "\n",
            "-----------Gaussian Naive Bayes :-------------\n",
            "\n"
          ]
        },
        {
          "output_type": "stream",
          "name": "stderr",
          "text": [
            "/usr/local/lib/python3.7/dist-packages/sklearn/metrics/_classification.py:1272: UndefinedMetricWarning: Precision and F-score are ill-defined and being set to 0.0 in labels with no predicted samples. Use `zero_division` parameter to control this behavior.\n",
            "  _warn_prf(average, modifier, msg_start, len(result))\n"
          ]
        }
      ]
    },
    {
      "cell_type": "code",
      "metadata": {
        "colab": {
          "base_uri": "https://localhost:8080/"
        },
        "id": "wxbghTXaUIV5",
        "outputId": "ac4e78b3-3223-4ff6-e34c-60e33e2507ac"
      },
      "source": [
        "for i in range(len(classifiers)):\n",
        "  # print(\"-----------\"+classifiers[i][0]+\"-------------\")\n",
        "  result = cla_pred[i]\n",
        "  print('\\033[1m' + classifiers[i][0] + '\\033[0m')\n",
        "  print(result['accuracy'])\n",
        "  print()"
      ],
      "execution_count": 26,
      "outputs": [
        {
          "output_type": "stream",
          "name": "stdout",
          "text": [
            "\u001b[1mLogistic Regression :\u001b[0m\n",
            "0.5386083052749719\n",
            "\n",
            "\u001b[1mDecision Tree Classification :\u001b[0m\n",
            "0.7271043771043771\n",
            "\n",
            "\u001b[1mGradient Boosting Classification :\u001b[0m\n",
            "0.7508417508417509\n",
            "\n",
            "\u001b[1mExtra Tree Classification :\u001b[0m\n",
            "0.8038720538720538\n",
            "\n",
            "\u001b[1mK-Neighbors Classification :\u001b[0m\n",
            "0.49854096520763186\n",
            "\n",
            "\u001b[1mSupport Vector Classification :\u001b[0m\n",
            "0.5430976430976431\n",
            "\n",
            "\u001b[1mGaussian Naive Bayes :\u001b[0m\n",
            "0.6222783389450056\n",
            "\n"
          ]
        }
      ]
    },
    {
      "cell_type": "markdown",
      "metadata": {
        "id": "7X16RuOnBIaw"
      },
      "source": [
        "#**Submission**"
      ]
    },
    {
      "cell_type": "code",
      "metadata": {
        "colab": {
          "base_uri": "https://localhost:8080/"
        },
        "id": "YO8CfkzYyVms",
        "outputId": "69828f7e-91f6-45b3-cbf7-5a36a5556b46"
      },
      "source": [
        "test_df_unencoded.info()"
      ],
      "execution_count": 30,
      "outputs": [
        {
          "output_type": "stream",
          "name": "stdout",
          "text": [
            "<class 'pandas.core.frame.DataFrame'>\n",
            "Int64Index: 14850 entries, 59400 to 74249\n",
            "Data columns (total 28 columns):\n",
            " #   Column             Non-Null Count  Dtype  \n",
            "---  ------             --------------  -----  \n",
            " 0   id                 14850 non-null  int64  \n",
            " 1   amount_tsh         14850 non-null  float64\n",
            " 2   date_recorded      14850 non-null  object \n",
            " 3   funder             14850 non-null  object \n",
            " 4   gps_height         14850 non-null  int64  \n",
            " 5   installer          14850 non-null  object \n",
            " 6   longitude          14850 non-null  float64\n",
            " 7   latitude           14850 non-null  float64\n",
            " 8   wpt_name           14850 non-null  object \n",
            " 9   basin              14850 non-null  object \n",
            " 10  subvillage         14850 non-null  object \n",
            " 11  region             14850 non-null  object \n",
            " 12  region_code        14850 non-null  int64  \n",
            " 13  district_code      14850 non-null  int64  \n",
            " 14  lga                14850 non-null  object \n",
            " 15  ward               14850 non-null  object \n",
            " 16  population         14850 non-null  float64\n",
            " 17  public_meeting     14850 non-null  object \n",
            " 18  scheme_name        14850 non-null  object \n",
            " 19  permit             14850 non-null  object \n",
            " 20  construction_year  14850 non-null  float64\n",
            " 21  extraction_type    14850 non-null  object \n",
            " 22  management         14850 non-null  object \n",
            " 23  payment_type       14850 non-null  object \n",
            " 24  water_quality      14850 non-null  object \n",
            " 25  quantity_group     14850 non-null  object \n",
            " 26  source             14850 non-null  object \n",
            " 27  waterpoint_type    14850 non-null  object \n",
            "dtypes: float64(5), int64(4), object(19)\n",
            "memory usage: 3.3+ MB\n"
          ]
        }
      ]
    },
    {
      "cell_type": "code",
      "metadata": {
        "id": "gpJZSSxtBxQk"
      },
      "source": [
        "y_pred = model1.predict(test_df_encoded)     #if other classifiers are used"
      ],
      "execution_count": null,
      "outputs": []
    },
    {
      "cell_type": "code",
      "metadata": {
        "id": "90fiqaQfE5xk"
      },
      "source": [
        "y_pred = model.predict(test_df_unencoded)   #if CAT BOOST is used"
      ],
      "execution_count": 31,
      "outputs": []
    },
    {
      "cell_type": "code",
      "metadata": {
        "id": "zYPv3lJpB80V"
      },
      "source": [
        "prediction = pd.DataFrame(\n",
        "    y_pred\n",
        ")"
      ],
      "execution_count": 32,
      "outputs": []
    },
    {
      "cell_type": "code",
      "metadata": {
        "id": "FtG1xAeXB-ZL",
        "colab": {
          "base_uri": "https://localhost:8080/"
        },
        "outputId": "dca34304-0bb6-4091-cb11-d4032c1fd893"
      },
      "source": [
        "submission_df = pd.read_csv(\"/content/drive/MyDrive/Machine Learning/SubmissionFormat.csv\")\n",
        "print(submission_df.shape)"
      ],
      "execution_count": 33,
      "outputs": [
        {
          "output_type": "stream",
          "name": "stdout",
          "text": [
            "(14850, 2)\n"
          ]
        }
      ]
    },
    {
      "cell_type": "code",
      "metadata": {
        "id": "V7FVAxLqDUQ5",
        "colab": {
          "base_uri": "https://localhost:8080/"
        },
        "outputId": "081ee51a-31d0-4e2d-eaad-be63618bc916"
      },
      "source": [
        "submission_df['status_group'] = prediction[0]\n",
        "submission_df.info"
      ],
      "execution_count": 34,
      "outputs": [
        {
          "output_type": "stream",
          "name": "stdout",
          "text": [
            "<bound method DataFrame.info of           id    status_group\n",
            "0      50785      functional\n",
            "1      51630      functional\n",
            "2      17168      functional\n",
            "3      45559  non functional\n",
            "4      49871      functional\n",
            "...      ...             ...\n",
            "14845  39307  non functional\n",
            "14846  18990      functional\n",
            "14847  28749      functional\n",
            "14848  33492      functional\n",
            "14849  68707  non functional\n",
            "\n",
            "[14850 rows x 2 columns]>\n"
          ]
        }
      ]
    },
    {
      "cell_type": "code",
      "metadata": {
        "id": "BVc7T2OfDLOh"
      },
      "source": [
        "submission_df.to_csv('/content/drive/MyDrive/Machine Learning/my_submission15.csv')"
      ],
      "execution_count": 36,
      "outputs": []
    }
  ]
}